{
 "cells": [
  {
   "cell_type": "markdown",
   "metadata": {},
   "source": [
    "# Transfinite Interpolation\n",
    "\n",
    "$\\vec{x} (u,v) = (1-v) \\vec{c}_1(u) + v \\vec{c}_3(u) + (1-u) \\vec{c}_2(v) + u \\vec{c}_4(v) \n",
    "  -[ (1-u)(1-v) \\vec{P}_{1,2} + uv \\vec{P}_{3,4} + u(1-v) \\vec{P}_{1,4} + (1-u)v \\vec{P}_{3,2}$"
   ]
  },
  {
   "cell_type": "code",
   "execution_count": 14,
   "metadata": {},
   "outputs": [
    {
     "name": "stderr",
     "output_type": "stream",
     "text": [
      "WARNING: replacing module StructuredMeshing.\n"
     ]
    },
    {
     "data": {
      "text/plain": [
       "Main.StructuredMeshing"
      ]
     },
     "execution_count": 14,
     "metadata": {},
     "output_type": "execute_result"
    }
   ],
   "source": [
    "include(\"../src/StructuredMeshing.jl\")"
   ]
  },
  {
   "cell_type": "code",
   "execution_count": 15,
   "metadata": {},
   "outputs": [
    {
     "data": {
      "text/plain": [
       "10×10 Array{Union{Nothing, Tuple},2}:\n",
       " (0.0, 0.0)       (0.0, 0.111111)       …  (0.0, 1.0)     \n",
       " (0.111111, 0.0)  (0.111111, 0.111111)     (0.111111, 1.0)\n",
       " (0.222222, 0.0)  (0.222222, 0.111111)     (0.222222, 1.0)\n",
       " (0.333333, 0.0)  (0.333333, 0.111111)     (0.333333, 1.0)\n",
       " (0.444444, 0.0)  (0.444444, 0.111111)     (0.444444, 1.0)\n",
       " (0.555556, 0.0)  (0.555556, 0.111111)  …  (0.555556, 1.0)\n",
       " (0.666667, 0.0)  (0.666667, 0.111111)     (0.666667, 1.0)\n",
       " (0.777778, 0.0)  (0.777778, 0.111111)     (0.777778, 1.0)\n",
       " (0.888889, 0.0)  (0.888889, 0.111111)     (0.888889, 1.0)\n",
       " (1.0, 0.0)       (1.0, 0.111111)          (1.0, 1.0)     "
      ]
     },
     "execution_count": 15,
     "metadata": {},
     "output_type": "execute_result"
    }
   ],
   "source": [
    "c1(u) = [u, 0.0]\n",
    "c2(v) = [0.0, v]\n",
    "c3(u) = [u, 1.0]\n",
    "c4(v) = [1.0, v]\n",
    "\n",
    "P12 = [0.0, 0.0]\n",
    "P14 = [1.0, 0.0]\n",
    "P34 = [1.0, 1.0]\n",
    "P32 = [0.0, 1.0]\n",
    "\n",
    "us = vs = collect(range(0, stop=1.0, length=10))\n",
    "\n",
    "a = StructuredMeshing.calculateTransfiniteNodes(c1, c2, c3, c4, P12, P14, P34, P32, us, vs)"
   ]
  },
  {
   "cell_type": "code",
   "execution_count": null,
   "metadata": {},
   "outputs": [],
   "source": []
  }
 ],
 "metadata": {
  "kernelspec": {
   "display_name": "Julia 1.2.0",
   "language": "julia",
   "name": "julia-1.2"
  },
  "language_info": {
   "file_extension": ".jl",
   "mimetype": "application/julia",
   "name": "julia",
   "version": "1.2.0"
  }
 },
 "nbformat": 4,
 "nbformat_minor": 4
}
