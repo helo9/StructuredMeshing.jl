{
 "cells": [
  {
   "cell_type": "code",
   "execution_count": 1,
   "metadata": {},
   "outputs": [
    {
     "name": "stderr",
     "output_type": "stream",
     "text": [
      "┌ Info: Recompiling stale cache file /home/hahn/.julia/compiled/v1.2/StructuredMeshing/sr2Z3.ji for StructuredMeshing [f65217f6-3a6f-11e9-30a3-3bd364deaf89]\n",
      "└ @ Base loading.jl:1240\n",
      "WARNING: using Plots.rotate! in module StructuredMeshing conflicts with an existing identifier.\n"
     ]
    }
   ],
   "source": [
    "using StructuredMeshing"
   ]
  },
  {
   "cell_type": "code",
   "execution_count": 2,
   "metadata": {},
   "outputs": [
    {
     "data": {
      "text/plain": [
       "StructuredMeshing.BoundaryLink(1, 1, 2)"
      ]
     },
     "execution_count": 2,
     "metadata": {},
     "output_type": "execute_result"
    }
   ],
   "source": [
    "meshdef = emptyMeshDef()\n",
    "\n",
    "vert1 = addVertex!(meshdef, [1.0, 0.0])\n",
    "rotate!(meshdef, vert1, [0.0, 0.0], pi/2, 10)"
   ]
  },
  {
   "cell_type": "code",
   "execution_count": 3,
   "metadata": {},
   "outputs": [
    {
     "data": {
      "text/plain": [
       "MeshDef(Dict{Symbol,Any}[], StructuredMeshing.AbstractBoundary[StructuredMeshing.CircularBoundary(1, 2, 10, 1.0, 1.0)], Array{Float64,1}[[1.0, 0.0], [6.123233995736766e-17, 1.0]])"
      ]
     },
     "execution_count": 3,
     "metadata": {},
     "output_type": "execute_result"
    }
   ],
   "source": [
    "meshdef"
   ]
  },
  {
   "cell_type": "code",
   "execution_count": 4,
   "metadata": {},
   "outputs": [
    {
     "ename": "MethodError",
     "evalue": "MethodError: no method matching angle(::Array{Float64,2}, ::Array{Float64,2})",
     "output_type": "error",
     "traceback": [
      "MethodError: no method matching angle(::Array{Float64,2}, ::Array{Float64,2})",
      "",
      "Stacktrace:",
      " [1] show!(::Plots.Plot{Plots.GRBackend}, ::StructuredMeshing.CircularBoundary, ::MeshDef) at /home/hahn/Programmieren/StructuredMeshing.jl/src/show.jl:26",
      " [2] #show#24(::Bool, ::typeof(show), ::MeshDef) at /home/hahn/Programmieren/StructuredMeshing.jl/src/show.jl:71",
      " [3] show(::MeshDef) at /home/hahn/Programmieren/StructuredMeshing.jl/src/show.jl:68",
      " [4] top-level scope at In[4]:1"
     ]
    }
   ],
   "source": [
    "show(meshdef)"
   ]
  },
  {
   "cell_type": "code",
   "execution_count": null,
   "metadata": {},
   "outputs": [],
   "source": []
  }
 ],
 "metadata": {
  "kernelspec": {
   "display_name": "Julia 1.2.0",
   "language": "julia",
   "name": "julia-1.2"
  },
  "language_info": {
   "file_extension": ".jl",
   "mimetype": "application/julia",
   "name": "julia",
   "version": "1.2.0"
  }
 },
 "nbformat": 4,
 "nbformat_minor": 4
}
