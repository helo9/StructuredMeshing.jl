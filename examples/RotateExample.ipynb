{
 "cells": [
  {
   "cell_type": "code",
   "execution_count": 1,
   "metadata": {},
   "outputs": [
    {
     "name": "stderr",
     "output_type": "stream",
     "text": [
      "┌ Info: Recompiling stale cache file /home/hahn/.julia/compiled/v1.2/StructuredMeshing/sr2Z3.ji for StructuredMeshing [f65217f6-3a6f-11e9-30a3-3bd364deaf89]\n",
      "└ @ Base loading.jl:1240\n",
      "WARNING: using Plots.rotate! in module StructuredMeshing conflicts with an existing identifier.\n"
     ]
    }
   ],
   "source": [
    "using StructuredMeshing"
   ]
  },
  {
   "cell_type": "code",
   "execution_count": 2,
   "metadata": {},
   "outputs": [
    {
     "data": {
      "text/plain": [
       "StructuredMeshing.BoundaryLink(1, 1, 2)"
      ]
     },
     "execution_count": 2,
     "metadata": {},
     "output_type": "execute_result"
    }
   ],
   "source": [
    "meshdef = emptyMeshDef()\n",
    "\n",
    "vert1 = addVertex!(meshdef, [1.0, 0.0])\n",
    "rotate!(meshdef, vert1, [0.0, 0.0], pi/2, 10)"
   ]
  },
  {
   "cell_type": "code",
   "execution_count": 3,
   "metadata": {},
   "outputs": [
    {
     "data": {
      "text/plain": [
       "MeshDef(Dict{Symbol,Any}[], StructuredMeshing.AbstractBoundary[StructuredMeshing.CircularBoundary(1, 2, 10, 1.0, 1.0)], Array{Float64,1}[[1.0, 0.0], [6.123233995736766e-17, 1.0]])"
      ]
     },
     "execution_count": 3,
     "metadata": {},
     "output_type": "execute_result"
    }
   ],
   "source": [
    "meshdef"
   ]
  },
  {
   "cell_type": "code",
   "execution_count": 4,
   "metadata": {},
   "outputs": [
    {
     "name": "stdout",
     "output_type": "stream",
     "text": [
      "Array{Float64,1}[[1.0, 0.0], [6.123233995736766e-17, 1.0]]\n",
      "[0.5, 0.5]\n",
      "1.414213562373095\n",
      "[-1.1102230246251565e-16, 0.0]\n",
      "1.0\n"
     ]
    },
    {
     "data": {
      "image/svg+xml": [
       "<?xml version=\"1.0\" encoding=\"utf-8\"?>\n",
       "<svg xmlns=\"http://www.w3.org/2000/svg\" xmlns:xlink=\"http://www.w3.org/1999/xlink\" width=\"600\" height=\"400\" viewBox=\"0 0 2400 1600\">\n",
       "<defs>\n",
       "  <clipPath id=\"clip6300\">\n",
       "    <rect x=\"0\" y=\"0\" width=\"2400\" height=\"1600\"/>\n",
       "  </clipPath>\n",
       "</defs>\n",
       "<polygon clip-path=\"url(#clip6300)\" points=\"\n",
       "0,1600 2400,1600 2400,0 0,0 \n",
       "  \" fill=\"#ffffff\" fill-rule=\"evenodd\" fill-opacity=\"1\"/>\n",
       "<defs>\n",
       "  <clipPath id=\"clip6301\">\n",
       "    <rect x=\"480\" y=\"0\" width=\"1681\" height=\"1600\"/>\n",
       "  </clipPath>\n",
       "</defs>\n",
       "<polygon clip-path=\"url(#clip6300)\" points=\"\n",
       "180.66,1487.47 2352.76,1487.47 2352.76,47.2441 180.66,47.2441 \n",
       "  \" fill=\"#ffffff\" fill-rule=\"evenodd\" fill-opacity=\"1\"/>\n",
       "<defs>\n",
       "  <clipPath id=\"clip6302\">\n",
       "    <rect x=\"180\" y=\"47\" width=\"2173\" height=\"1441\"/>\n",
       "  </clipPath>\n",
       "</defs>\n",
       "<polyline clip-path=\"url(#clip6302)\" style=\"stroke:#000000; stroke-width:2; stroke-opacity:0.1; fill:none\" points=\"\n",
       "  242.135,1487.47 242.135,47.2441 \n",
       "  \"/>\n",
       "<polyline clip-path=\"url(#clip6302)\" style=\"stroke:#000000; stroke-width:2; stroke-opacity:0.1; fill:none\" points=\"\n",
       "  754.421,1487.47 754.421,47.2441 \n",
       "  \"/>\n",
       "<polyline clip-path=\"url(#clip6302)\" style=\"stroke:#000000; stroke-width:2; stroke-opacity:0.1; fill:none\" points=\"\n",
       "  1266.71,1487.47 1266.71,47.2441 \n",
       "  \"/>\n",
       "<polyline clip-path=\"url(#clip6302)\" style=\"stroke:#000000; stroke-width:2; stroke-opacity:0.1; fill:none\" points=\"\n",
       "  1778.99,1487.47 1778.99,47.2441 \n",
       "  \"/>\n",
       "<polyline clip-path=\"url(#clip6302)\" style=\"stroke:#000000; stroke-width:2; stroke-opacity:0.1; fill:none\" points=\"\n",
       "  2291.28,1487.47 2291.28,47.2441 \n",
       "  \"/>\n",
       "<polyline clip-path=\"url(#clip6302)\" style=\"stroke:#000000; stroke-width:2; stroke-opacity:0.1; fill:none\" points=\"\n",
       "  180.66,1446.71 2352.76,1446.71 \n",
       "  \"/>\n",
       "<polyline clip-path=\"url(#clip6302)\" style=\"stroke:#000000; stroke-width:2; stroke-opacity:0.1; fill:none\" points=\"\n",
       "  180.66,1107.04 2352.76,1107.04 \n",
       "  \"/>\n",
       "<polyline clip-path=\"url(#clip6302)\" style=\"stroke:#000000; stroke-width:2; stroke-opacity:0.1; fill:none\" points=\"\n",
       "  180.66,767.359 2352.76,767.359 \n",
       "  \"/>\n",
       "<polyline clip-path=\"url(#clip6302)\" style=\"stroke:#000000; stroke-width:2; stroke-opacity:0.1; fill:none\" points=\"\n",
       "  180.66,427.682 2352.76,427.682 \n",
       "  \"/>\n",
       "<polyline clip-path=\"url(#clip6302)\" style=\"stroke:#000000; stroke-width:2; stroke-opacity:0.1; fill:none\" points=\"\n",
       "  180.66,88.0053 2352.76,88.0053 \n",
       "  \"/>\n",
       "<polyline clip-path=\"url(#clip6300)\" style=\"stroke:#000000; stroke-width:4; stroke-opacity:1; fill:none\" points=\"\n",
       "  180.66,1487.47 2352.76,1487.47 \n",
       "  \"/>\n",
       "<polyline clip-path=\"url(#clip6300)\" style=\"stroke:#000000; stroke-width:4; stroke-opacity:1; fill:none\" points=\"\n",
       "  180.66,1487.47 180.66,47.2441 \n",
       "  \"/>\n",
       "<polyline clip-path=\"url(#clip6300)\" style=\"stroke:#000000; stroke-width:4; stroke-opacity:1; fill:none\" points=\"\n",
       "  242.135,1487.47 242.135,1465.87 \n",
       "  \"/>\n",
       "<polyline clip-path=\"url(#clip6300)\" style=\"stroke:#000000; stroke-width:4; stroke-opacity:1; fill:none\" points=\"\n",
       "  754.421,1487.47 754.421,1465.87 \n",
       "  \"/>\n",
       "<polyline clip-path=\"url(#clip6300)\" style=\"stroke:#000000; stroke-width:4; stroke-opacity:1; fill:none\" points=\"\n",
       "  1266.71,1487.47 1266.71,1465.87 \n",
       "  \"/>\n",
       "<polyline clip-path=\"url(#clip6300)\" style=\"stroke:#000000; stroke-width:4; stroke-opacity:1; fill:none\" points=\"\n",
       "  1778.99,1487.47 1778.99,1465.87 \n",
       "  \"/>\n",
       "<polyline clip-path=\"url(#clip6300)\" style=\"stroke:#000000; stroke-width:4; stroke-opacity:1; fill:none\" points=\"\n",
       "  2291.28,1487.47 2291.28,1465.87 \n",
       "  \"/>\n",
       "<polyline clip-path=\"url(#clip6300)\" style=\"stroke:#000000; stroke-width:4; stroke-opacity:1; fill:none\" points=\"\n",
       "  180.66,1446.71 213.242,1446.71 \n",
       "  \"/>\n",
       "<polyline clip-path=\"url(#clip6300)\" style=\"stroke:#000000; stroke-width:4; stroke-opacity:1; fill:none\" points=\"\n",
       "  180.66,1107.04 213.242,1107.04 \n",
       "  \"/>\n",
       "<polyline clip-path=\"url(#clip6300)\" style=\"stroke:#000000; stroke-width:4; stroke-opacity:1; fill:none\" points=\"\n",
       "  180.66,767.359 213.242,767.359 \n",
       "  \"/>\n",
       "<polyline clip-path=\"url(#clip6300)\" style=\"stroke:#000000; stroke-width:4; stroke-opacity:1; fill:none\" points=\"\n",
       "  180.66,427.682 213.242,427.682 \n",
       "  \"/>\n",
       "<polyline clip-path=\"url(#clip6300)\" style=\"stroke:#000000; stroke-width:4; stroke-opacity:1; fill:none\" points=\"\n",
       "  180.66,88.0053 213.242,88.0053 \n",
       "  \"/>\n",
       "<g clip-path=\"url(#clip6300)\">\n",
       "<text style=\"fill:#000000; fill-opacity:1; font-family:Arial,Helvetica Neue,Helvetica,sans-serif; font-size:48px; text-anchor:middle;\" transform=\"rotate(0, 242.135, 1541.47)\" x=\"242.135\" y=\"1541.47\">0.00</text>\n",
       "</g>\n",
       "<g clip-path=\"url(#clip6300)\">\n",
       "<text style=\"fill:#000000; fill-opacity:1; font-family:Arial,Helvetica Neue,Helvetica,sans-serif; font-size:48px; text-anchor:middle;\" transform=\"rotate(0, 754.421, 1541.47)\" x=\"754.421\" y=\"1541.47\">0.25</text>\n",
       "</g>\n",
       "<g clip-path=\"url(#clip6300)\">\n",
       "<text style=\"fill:#000000; fill-opacity:1; font-family:Arial,Helvetica Neue,Helvetica,sans-serif; font-size:48px; text-anchor:middle;\" transform=\"rotate(0, 1266.71, 1541.47)\" x=\"1266.71\" y=\"1541.47\">0.50</text>\n",
       "</g>\n",
       "<g clip-path=\"url(#clip6300)\">\n",
       "<text style=\"fill:#000000; fill-opacity:1; font-family:Arial,Helvetica Neue,Helvetica,sans-serif; font-size:48px; text-anchor:middle;\" transform=\"rotate(0, 1778.99, 1541.47)\" x=\"1778.99\" y=\"1541.47\">0.75</text>\n",
       "</g>\n",
       "<g clip-path=\"url(#clip6300)\">\n",
       "<text style=\"fill:#000000; fill-opacity:1; font-family:Arial,Helvetica Neue,Helvetica,sans-serif; font-size:48px; text-anchor:middle;\" transform=\"rotate(0, 2291.28, 1541.47)\" x=\"2291.28\" y=\"1541.47\">1.00</text>\n",
       "</g>\n",
       "<g clip-path=\"url(#clip6300)\">\n",
       "<text style=\"fill:#000000; fill-opacity:1; font-family:Arial,Helvetica Neue,Helvetica,sans-serif; font-size:48px; text-anchor:end;\" transform=\"rotate(0, 156.66, 1464.21)\" x=\"156.66\" y=\"1464.21\">0.00</text>\n",
       "</g>\n",
       "<g clip-path=\"url(#clip6300)\">\n",
       "<text style=\"fill:#000000; fill-opacity:1; font-family:Arial,Helvetica Neue,Helvetica,sans-serif; font-size:48px; text-anchor:end;\" transform=\"rotate(0, 156.66, 1124.54)\" x=\"156.66\" y=\"1124.54\">0.25</text>\n",
       "</g>\n",
       "<g clip-path=\"url(#clip6300)\">\n",
       "<text style=\"fill:#000000; fill-opacity:1; font-family:Arial,Helvetica Neue,Helvetica,sans-serif; font-size:48px; text-anchor:end;\" transform=\"rotate(0, 156.66, 784.859)\" x=\"156.66\" y=\"784.859\">0.50</text>\n",
       "</g>\n",
       "<g clip-path=\"url(#clip6300)\">\n",
       "<text style=\"fill:#000000; fill-opacity:1; font-family:Arial,Helvetica Neue,Helvetica,sans-serif; font-size:48px; text-anchor:end;\" transform=\"rotate(0, 156.66, 445.182)\" x=\"156.66\" y=\"445.182\">0.75</text>\n",
       "</g>\n",
       "<g clip-path=\"url(#clip6300)\">\n",
       "<text style=\"fill:#000000; fill-opacity:1; font-family:Arial,Helvetica Neue,Helvetica,sans-serif; font-size:48px; text-anchor:end;\" transform=\"rotate(0, 156.66, 105.505)\" x=\"156.66\" y=\"105.505\">1.00</text>\n",
       "</g>\n",
       "<polyline clip-path=\"url(#clip6302)\" style=\"stroke:#009af9; stroke-width:4; stroke-opacity:1; fill:none\" points=\"\n",
       "  2291.28,1446.71 2291.22,1435.99 2291.03,1425.26 2290.71,1414.54 2290.26,1403.82 2289.69,1393.1 2288.98,1382.39 2288.15,1371.68 2287.2,1360.97 2286.11,1350.27 \n",
       "  2284.9,1339.58 2283.56,1328.89 2282.1,1318.21 2280.5,1307.53 2278.78,1296.87 2276.93,1286.22 2274.96,1275.57 2272.86,1264.94 2270.63,1254.31 2268.28,1243.7 \n",
       "  2265.8,1233.11 2263.19,1222.52 2260.46,1211.95 2257.6,1201.39 2254.62,1190.85 2251.51,1180.33 2248.28,1169.82 2244.92,1159.33 2241.44,1148.86 2237.83,1138.4 \n",
       "  2234.1,1127.97 2230.24,1117.55 2226.26,1107.15 2222.15,1096.78 2217.93,1086.43 2213.58,1076.1 2209.1,1065.79 2204.51,1055.51 2199.79,1045.25 2194.95,1035.02 \n",
       "  2189.99,1024.81 2184.9,1014.63 2179.7,1004.47 2174.37,994.347 2168.93,984.248 2163.36,974.178 2157.68,964.138 2151.87,954.127 2145.95,944.147 2139.91,934.199 \n",
       "  2133.75,924.282 2127.47,914.398 2121.07,904.547 2114.56,894.73 2107.93,884.948 2101.19,875.2 2094.33,865.488 2087.35,855.812 2080.26,846.173 2073.05,836.571 \n",
       "  2065.73,827.008 2058.3,817.483 2050.75,807.997 2043.09,798.551 2035.32,789.145 2027.43,779.781 2019.44,770.458 2011.33,761.177 2003.12,751.939 1994.79,742.744 \n",
       "  1986.35,733.593 1977.81,724.486 1969.16,715.424 1960.4,706.408 1951.53,697.438 1942.56,688.515 1933.48,679.639 1924.3,670.811 1915.01,662.031 1905.62,653.3 \n",
       "  1896.12,644.618 1886.52,635.987 1876.82,627.406 1867.01,618.875 1857.11,610.397 1847.1,601.971 1836.99,593.597 1826.79,585.276 1816.48,577.01 1806.08,568.797 \n",
       "  1795.58,560.639 1784.98,552.536 1774.29,544.489 1763.5,536.498 1752.62,528.564 1741.64,520.687 1730.57,512.868 1719.41,505.107 1708.15,497.404 1696.81,489.761 \n",
       "  1685.37,482.177 1673.84,474.654 1662.23,467.191 1650.52,459.789 1638.73,452.449 1626.85,445.17 1614.88,437.954 1602.83,430.801 1590.7,423.711 1578.48,416.685 \n",
       "  1566.17,409.723 1553.79,402.825 1541.32,395.993 1528.77,389.226 1516.14,382.525 1503.43,375.89 1490.65,369.322 1477.78,362.821 1464.84,356.388 1451.82,350.023 \n",
       "  1438.73,343.725 1425.56,337.497 1412.32,331.338 1399,325.248 1385.62,319.228 1372.16,313.279 1358.63,307.4 1345.03,301.592 1331.37,295.855 1317.63,290.19 \n",
       "  1303.83,284.597 1289.97,279.077 1276.03,273.629 1262.04,268.254 1247.97,262.953 1233.85,257.726 1219.67,252.572 1205.42,247.493 1191.11,242.489 1176.75,237.56 \n",
       "  1162.33,232.706 1147.84,227.928 1133.31,223.225 1118.71,218.599 1104.07,214.05 1089.37,209.577 1074.61,205.181 1059.81,200.863 1044.95,196.622 1030.04,192.459 \n",
       "  1015.09,188.375 1000.08,184.368 985.033,180.441 969.935,176.592 954.793,172.822 939.605,169.132 924.375,165.522 909.102,161.991 893.787,158.54 878.432,155.17 \n",
       "  863.037,151.88 847.603,148.67 832.132,145.542 816.624,142.495 801.08,139.528 785.501,136.644 769.889,133.841 754.243,131.119 738.566,128.48 722.857,125.923 \n",
       "  707.119,123.448 691.352,121.056 675.557,118.746 659.734,116.519 643.886,114.375 628.013,112.314 612.116,110.336 596.195,108.441 580.253,106.629 564.289,104.901 \n",
       "  548.306,103.257 532.303,101.697 516.282,100.22 500.245,98.827 484.191,97.5181 468.122,96.2932 452.039,95.1525 435.943,94.096 419.834,93.1238 403.715,92.236 \n",
       "  387.586,91.4325 371.447,90.7134 355.301,90.0789 339.147,89.5289 322.988,89.0634 306.823,88.6825 290.655,88.3863 274.483,88.1746 258.309,88.0477 242.135,88.0053 \n",
       "  \n",
       "  \"/>\n",
       "<circle clip-path=\"url(#clip6302)\" style=\"fill:#000000; stroke:none; fill-opacity:1\" cx=\"2291.28\" cy=\"1446.71\" r=\"25\"/>\n",
       "<circle clip-path=\"url(#clip6302)\" style=\"fill:#ff0000; stroke:none; fill-opacity:1\" cx=\"2291.28\" cy=\"1446.71\" r=\"21\"/>\n",
       "<circle clip-path=\"url(#clip6302)\" style=\"fill:#000000; stroke:none; fill-opacity:1\" cx=\"242.135\" cy=\"88.0053\" r=\"25\"/>\n",
       "<circle clip-path=\"url(#clip6302)\" style=\"fill:#ff0000; stroke:none; fill-opacity:1\" cx=\"242.135\" cy=\"88.0053\" r=\"21\"/>\n",
       "</svg>\n"
      ]
     },
     "execution_count": 4,
     "metadata": {},
     "output_type": "execute_result"
    }
   ],
   "source": [
    "show(meshdef)"
   ]
  },
  {
   "cell_type": "code",
   "execution_count": null,
   "metadata": {},
   "outputs": [],
   "source": []
  }
 ],
 "metadata": {
  "kernelspec": {
   "display_name": "Julia 1.2.0",
   "language": "julia",
   "name": "julia-1.2"
  },
  "language_info": {
   "file_extension": ".jl",
   "mimetype": "application/julia",
   "name": "julia",
   "version": "1.2.0"
  }
 },
 "nbformat": 4,
 "nbformat_minor": 4
}
