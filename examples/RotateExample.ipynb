{
 "cells": [
  {
   "cell_type": "code",
   "execution_count": 1,
   "metadata": {},
   "outputs": [
    {
     "name": "stderr",
     "output_type": "stream",
     "text": [
      "┌ Info: Recompiling stale cache file /home/hahn/.julia/compiled/v1.2/StructuredMeshing/sr2Z3.ji for StructuredMeshing [f65217f6-3a6f-11e9-30a3-3bd364deaf89]\n",
      "└ @ Base loading.jl:1240\n",
      "WARNING: using Plots.rotate! in module StructuredMeshing conflicts with an existing identifier.\n"
     ]
    }
   ],
   "source": [
    "using Revise\n",
    "using StructuredMeshing"
   ]
  },
  {
   "cell_type": "code",
   "execution_count": 5,
   "metadata": {},
   "outputs": [
    {
     "data": {
      "text/plain": [
       "StructuredMeshing.BoundaryLink(1, 1, 2)"
      ]
     },
     "execution_count": 5,
     "metadata": {},
     "output_type": "execute_result"
    }
   ],
   "source": [
    "meshdef = emptyMeshDef()\n",
    "\n",
    "vert1 = addVertex!(meshdef, [1.0, 0.0])\n",
    "rotate!(meshdef, vert1, [0.0, 0.0], -pi/2, 10)"
   ]
  },
  {
   "cell_type": "code",
   "execution_count": 6,
   "metadata": {},
   "outputs": [
    {
     "data": {
      "text/plain": [
       "MeshDef(Dict{Symbol,Any}[], StructuredMeshing.AbstractBoundary[StructuredMeshing.CircularBoundary(1, 2, 10, 1.0, 1.0)], Array{Float64,1}[[1.0, 0.0], [6.123233995736766e-17, -1.0]])"
      ]
     },
     "execution_count": 6,
     "metadata": {},
     "output_type": "execute_result"
    }
   ],
   "source": [
    "meshdef"
   ]
  },
  {
   "cell_type": "code",
   "execution_count": 7,
   "metadata": {},
   "outputs": [
    {
     "data": {
      "image/svg+xml": [
       "<?xml version=\"1.0\" encoding=\"utf-8\"?>\n",
       "<svg xmlns=\"http://www.w3.org/2000/svg\" xmlns:xlink=\"http://www.w3.org/1999/xlink\" width=\"600\" height=\"400\" viewBox=\"0 0 2400 1600\">\n",
       "<defs>\n",
       "  <clipPath id=\"clip3900\">\n",
       "    <rect x=\"0\" y=\"0\" width=\"2400\" height=\"1600\"/>\n",
       "  </clipPath>\n",
       "</defs>\n",
       "<polygon clip-path=\"url(#clip3900)\" points=\"\n",
       "0,1600 2400,1600 2400,0 0,0 \n",
       "  \" fill=\"#ffffff\" fill-rule=\"evenodd\" fill-opacity=\"1\"/>\n",
       "<defs>\n",
       "  <clipPath id=\"clip3901\">\n",
       "    <rect x=\"480\" y=\"0\" width=\"1681\" height=\"1600\"/>\n",
       "  </clipPath>\n",
       "</defs>\n",
       "<polygon clip-path=\"url(#clip3900)\" points=\"\n",
       "208.77,1487.47 2352.76,1487.47 2352.76,47.2441 208.77,47.2441 \n",
       "  \" fill=\"#ffffff\" fill-rule=\"evenodd\" fill-opacity=\"1\"/>\n",
       "<defs>\n",
       "  <clipPath id=\"clip3902\">\n",
       "    <rect x=\"208\" y=\"47\" width=\"2145\" height=\"1441\"/>\n",
       "  </clipPath>\n",
       "</defs>\n",
       "<polyline clip-path=\"url(#clip3902)\" style=\"stroke:#000000; stroke-width:2; stroke-opacity:0.1; fill:none\" points=\"\n",
       "  269.449,1487.47 269.449,47.2441 \n",
       "  \"/>\n",
       "<polyline clip-path=\"url(#clip3902)\" style=\"stroke:#000000; stroke-width:2; stroke-opacity:0.1; fill:none\" points=\"\n",
       "  775.106,1487.47 775.106,47.2441 \n",
       "  \"/>\n",
       "<polyline clip-path=\"url(#clip3902)\" style=\"stroke:#000000; stroke-width:2; stroke-opacity:0.1; fill:none\" points=\"\n",
       "  1280.76,1487.47 1280.76,47.2441 \n",
       "  \"/>\n",
       "<polyline clip-path=\"url(#clip3902)\" style=\"stroke:#000000; stroke-width:2; stroke-opacity:0.1; fill:none\" points=\"\n",
       "  1786.42,1487.47 1786.42,47.2441 \n",
       "  \"/>\n",
       "<polyline clip-path=\"url(#clip3902)\" style=\"stroke:#000000; stroke-width:2; stroke-opacity:0.1; fill:none\" points=\"\n",
       "  2292.08,1487.47 2292.08,47.2441 \n",
       "  \"/>\n",
       "<polyline clip-path=\"url(#clip3902)\" style=\"stroke:#000000; stroke-width:2; stroke-opacity:0.1; fill:none\" points=\"\n",
       "  208.77,1446.71 2352.76,1446.71 \n",
       "  \"/>\n",
       "<polyline clip-path=\"url(#clip3902)\" style=\"stroke:#000000; stroke-width:2; stroke-opacity:0.1; fill:none\" points=\"\n",
       "  208.77,1107.04 2352.76,1107.04 \n",
       "  \"/>\n",
       "<polyline clip-path=\"url(#clip3902)\" style=\"stroke:#000000; stroke-width:2; stroke-opacity:0.1; fill:none\" points=\"\n",
       "  208.77,767.359 2352.76,767.359 \n",
       "  \"/>\n",
       "<polyline clip-path=\"url(#clip3902)\" style=\"stroke:#000000; stroke-width:2; stroke-opacity:0.1; fill:none\" points=\"\n",
       "  208.77,427.682 2352.76,427.682 \n",
       "  \"/>\n",
       "<polyline clip-path=\"url(#clip3902)\" style=\"stroke:#000000; stroke-width:2; stroke-opacity:0.1; fill:none\" points=\"\n",
       "  208.77,88.0053 2352.76,88.0053 \n",
       "  \"/>\n",
       "<polyline clip-path=\"url(#clip3900)\" style=\"stroke:#000000; stroke-width:4; stroke-opacity:1; fill:none\" points=\"\n",
       "  208.77,1487.47 2352.76,1487.47 \n",
       "  \"/>\n",
       "<polyline clip-path=\"url(#clip3900)\" style=\"stroke:#000000; stroke-width:4; stroke-opacity:1; fill:none\" points=\"\n",
       "  208.77,1487.47 208.77,47.2441 \n",
       "  \"/>\n",
       "<polyline clip-path=\"url(#clip3900)\" style=\"stroke:#000000; stroke-width:4; stroke-opacity:1; fill:none\" points=\"\n",
       "  269.449,1487.47 269.449,1465.87 \n",
       "  \"/>\n",
       "<polyline clip-path=\"url(#clip3900)\" style=\"stroke:#000000; stroke-width:4; stroke-opacity:1; fill:none\" points=\"\n",
       "  775.106,1487.47 775.106,1465.87 \n",
       "  \"/>\n",
       "<polyline clip-path=\"url(#clip3900)\" style=\"stroke:#000000; stroke-width:4; stroke-opacity:1; fill:none\" points=\"\n",
       "  1280.76,1487.47 1280.76,1465.87 \n",
       "  \"/>\n",
       "<polyline clip-path=\"url(#clip3900)\" style=\"stroke:#000000; stroke-width:4; stroke-opacity:1; fill:none\" points=\"\n",
       "  1786.42,1487.47 1786.42,1465.87 \n",
       "  \"/>\n",
       "<polyline clip-path=\"url(#clip3900)\" style=\"stroke:#000000; stroke-width:4; stroke-opacity:1; fill:none\" points=\"\n",
       "  2292.08,1487.47 2292.08,1465.87 \n",
       "  \"/>\n",
       "<polyline clip-path=\"url(#clip3900)\" style=\"stroke:#000000; stroke-width:4; stroke-opacity:1; fill:none\" points=\"\n",
       "  208.77,1446.71 240.93,1446.71 \n",
       "  \"/>\n",
       "<polyline clip-path=\"url(#clip3900)\" style=\"stroke:#000000; stroke-width:4; stroke-opacity:1; fill:none\" points=\"\n",
       "  208.77,1107.04 240.93,1107.04 \n",
       "  \"/>\n",
       "<polyline clip-path=\"url(#clip3900)\" style=\"stroke:#000000; stroke-width:4; stroke-opacity:1; fill:none\" points=\"\n",
       "  208.77,767.359 240.93,767.359 \n",
       "  \"/>\n",
       "<polyline clip-path=\"url(#clip3900)\" style=\"stroke:#000000; stroke-width:4; stroke-opacity:1; fill:none\" points=\"\n",
       "  208.77,427.682 240.93,427.682 \n",
       "  \"/>\n",
       "<polyline clip-path=\"url(#clip3900)\" style=\"stroke:#000000; stroke-width:4; stroke-opacity:1; fill:none\" points=\"\n",
       "  208.77,88.0053 240.93,88.0053 \n",
       "  \"/>\n",
       "<g clip-path=\"url(#clip3900)\">\n",
       "<text style=\"fill:#000000; fill-opacity:1; font-family:Arial,Helvetica Neue,Helvetica,sans-serif; font-size:48px; text-anchor:middle;\" transform=\"rotate(0, 269.449, 1541.47)\" x=\"269.449\" y=\"1541.47\">0.00</text>\n",
       "</g>\n",
       "<g clip-path=\"url(#clip3900)\">\n",
       "<text style=\"fill:#000000; fill-opacity:1; font-family:Arial,Helvetica Neue,Helvetica,sans-serif; font-size:48px; text-anchor:middle;\" transform=\"rotate(0, 775.106, 1541.47)\" x=\"775.106\" y=\"1541.47\">0.25</text>\n",
       "</g>\n",
       "<g clip-path=\"url(#clip3900)\">\n",
       "<text style=\"fill:#000000; fill-opacity:1; font-family:Arial,Helvetica Neue,Helvetica,sans-serif; font-size:48px; text-anchor:middle;\" transform=\"rotate(0, 1280.76, 1541.47)\" x=\"1280.76\" y=\"1541.47\">0.50</text>\n",
       "</g>\n",
       "<g clip-path=\"url(#clip3900)\">\n",
       "<text style=\"fill:#000000; fill-opacity:1; font-family:Arial,Helvetica Neue,Helvetica,sans-serif; font-size:48px; text-anchor:middle;\" transform=\"rotate(0, 1786.42, 1541.47)\" x=\"1786.42\" y=\"1541.47\">0.75</text>\n",
       "</g>\n",
       "<g clip-path=\"url(#clip3900)\">\n",
       "<text style=\"fill:#000000; fill-opacity:1; font-family:Arial,Helvetica Neue,Helvetica,sans-serif; font-size:48px; text-anchor:middle;\" transform=\"rotate(0, 2292.08, 1541.47)\" x=\"2292.08\" y=\"1541.47\">1.00</text>\n",
       "</g>\n",
       "<g clip-path=\"url(#clip3900)\">\n",
       "<text style=\"fill:#000000; fill-opacity:1; font-family:Arial,Helvetica Neue,Helvetica,sans-serif; font-size:48px; text-anchor:end;\" transform=\"rotate(0, 184.77, 1464.21)\" x=\"184.77\" y=\"1464.21\">-1.00</text>\n",
       "</g>\n",
       "<g clip-path=\"url(#clip3900)\">\n",
       "<text style=\"fill:#000000; fill-opacity:1; font-family:Arial,Helvetica Neue,Helvetica,sans-serif; font-size:48px; text-anchor:end;\" transform=\"rotate(0, 184.77, 1124.54)\" x=\"184.77\" y=\"1124.54\">-0.75</text>\n",
       "</g>\n",
       "<g clip-path=\"url(#clip3900)\">\n",
       "<text style=\"fill:#000000; fill-opacity:1; font-family:Arial,Helvetica Neue,Helvetica,sans-serif; font-size:48px; text-anchor:end;\" transform=\"rotate(0, 184.77, 784.859)\" x=\"184.77\" y=\"784.859\">-0.50</text>\n",
       "</g>\n",
       "<g clip-path=\"url(#clip3900)\">\n",
       "<text style=\"fill:#000000; fill-opacity:1; font-family:Arial,Helvetica Neue,Helvetica,sans-serif; font-size:48px; text-anchor:end;\" transform=\"rotate(0, 184.77, 445.182)\" x=\"184.77\" y=\"445.182\">-0.25</text>\n",
       "</g>\n",
       "<g clip-path=\"url(#clip3900)\">\n",
       "<text style=\"fill:#000000; fill-opacity:1; font-family:Arial,Helvetica Neue,Helvetica,sans-serif; font-size:48px; text-anchor:end;\" transform=\"rotate(0, 184.77, 105.505)\" x=\"184.77\" y=\"105.505\">0.00</text>\n",
       "</g>\n",
       "<polyline clip-path=\"url(#clip3902)\" style=\"stroke:#009af9; stroke-width:4; stroke-opacity:1; fill:none\" points=\"\n",
       "  2292.08,88.0053 2276.11,88.0477 2260.15,88.1746 2244.19,88.3863 2228.23,88.6825 2212.27,89.0634 2196.32,89.5289 2180.38,90.0789 2164.44,90.7134 2148.51,91.4325 \n",
       "  2132.59,92.236 2116.68,93.1238 2100.78,94.096 2084.89,95.1525 2069.01,96.2932 2053.15,97.5181 2037.31,98.827 2021.48,100.22 2005.66,101.697 1989.87,103.257 \n",
       "  1974.09,104.901 1958.33,106.629 1942.6,108.441 1926.88,110.336 1911.19,112.314 1895.52,114.375 1879.88,116.519 1864.26,118.746 1848.67,121.056 1833.11,123.448 \n",
       "  1817.58,125.923 1802.07,128.48 1786.6,131.119 1771.15,133.841 1755.74,136.644 1740.37,139.528 1725.02,142.495 1709.72,145.542 1694.44,148.67 1679.21,151.88 \n",
       "  1664.01,155.17 1648.86,158.54 1633.74,161.991 1618.67,165.522 1603.63,169.132 1588.64,172.822 1573.7,176.592 1558.79,180.441 1543.94,184.368 1529.13,188.375 \n",
       "  1514.36,192.459 1499.65,196.622 1484.99,200.863 1470.37,205.181 1455.81,209.577 1441.3,214.05 1426.84,218.599 1412.44,223.225 1398.09,227.928 1383.79,232.706 \n",
       "  1369.56,237.56 1355.38,242.489 1341.26,247.493 1327.2,252.572 1313.19,257.726 1299.25,262.953 1285.38,268.254 1271.56,273.629 1257.81,279.077 1244.12,284.597 \n",
       "  1230.5,290.19 1216.94,295.855 1203.45,301.592 1190.03,307.4 1176.68,313.279 1163.39,319.228 1150.18,325.248 1137.04,331.338 1123.97,337.497 1110.97,343.725 \n",
       "  1098.05,350.023 1085.2,356.388 1072.42,362.821 1059.72,369.322 1047.1,375.89 1034.56,382.525 1022.09,389.226 1009.71,395.993 997.401,402.825 985.175,409.723 \n",
       "  973.031,416.685 960.968,423.711 948.989,430.801 937.094,437.954 925.283,445.17 913.557,452.449 901.917,459.789 890.363,467.191 878.897,474.654 867.519,482.177 \n",
       "  856.23,489.761 845.03,497.404 833.92,505.107 822.901,512.868 811.974,520.687 801.139,528.564 790.397,536.498 779.748,544.489 769.194,552.536 758.734,560.639 \n",
       "  748.37,568.797 738.103,577.01 727.932,585.276 717.858,593.597 707.883,601.971 698.006,610.397 688.229,618.875 678.551,627.406 668.974,635.987 659.499,644.618 \n",
       "  650.125,653.3 640.853,662.031 631.684,670.811 622.618,679.639 613.657,688.515 604.8,697.438 596.049,706.408 587.403,715.424 578.863,724.486 570.43,733.593 \n",
       "  562.104,742.744 553.886,751.939 545.776,761.177 537.775,770.458 529.884,779.781 522.102,789.145 514.43,798.551 506.869,807.997 499.42,817.483 492.082,827.008 \n",
       "  484.856,836.571 477.743,846.173 470.743,855.812 463.857,865.488 457.084,875.2 450.426,884.948 443.882,894.73 437.453,904.547 431.141,914.398 424.944,924.282 \n",
       "  418.863,934.199 412.899,944.147 407.052,954.127 401.323,964.138 395.711,974.178 390.218,984.248 384.843,994.347 379.587,1004.47 374.45,1014.63 369.433,1024.81 \n",
       "  364.535,1035.02 359.758,1045.25 355.101,1055.51 350.564,1065.79 346.149,1076.1 341.854,1086.43 337.682,1096.78 333.631,1107.15 329.702,1117.55 325.895,1127.97 \n",
       "  322.211,1138.4 318.649,1148.86 315.211,1159.33 311.896,1169.82 308.704,1180.33 305.635,1190.85 302.691,1201.39 299.87,1211.95 297.174,1222.52 294.602,1233.11 \n",
       "  292.154,1243.7 289.831,1254.31 287.632,1264.94 285.559,1275.57 283.61,1286.22 281.787,1296.87 280.089,1307.53 278.516,1318.21 277.069,1328.89 275.747,1339.58 \n",
       "  274.551,1350.27 273.481,1360.97 272.536,1371.68 271.717,1382.39 271.024,1393.1 270.457,1403.82 270.016,1414.54 269.701,1425.26 269.512,1435.99 269.449,1446.71 \n",
       "  \n",
       "  \"/>\n",
       "<circle clip-path=\"url(#clip3902)\" style=\"fill:#000000; stroke:none; fill-opacity:1\" cx=\"2292.08\" cy=\"88.0053\" r=\"14\"/>\n",
       "<circle clip-path=\"url(#clip3902)\" style=\"fill:#0000ff; stroke:none; fill-opacity:1\" cx=\"2292.08\" cy=\"88.0053\" r=\"10\"/>\n",
       "<circle clip-path=\"url(#clip3902)\" style=\"fill:#000000; stroke:none; fill-opacity:1\" cx=\"1940.85\" cy=\"108.647\" r=\"14\"/>\n",
       "<circle clip-path=\"url(#clip3902)\" style=\"fill:#0000ff; stroke:none; fill-opacity:1\" cx=\"1940.85\" cy=\"108.647\" r=\"10\"/>\n",
       "<circle clip-path=\"url(#clip3902)\" style=\"fill:#000000; stroke:none; fill-opacity:1\" cx=\"1600.3\" cy=\"169.945\" r=\"14\"/>\n",
       "<circle clip-path=\"url(#clip3902)\" style=\"fill:#0000ff; stroke:none; fill-opacity:1\" cx=\"1600.3\" cy=\"169.945\" r=\"10\"/>\n",
       "<circle clip-path=\"url(#clip3902)\" style=\"fill:#000000; stroke:none; fill-opacity:1\" cx=\"1280.76\" cy=\"270.038\" r=\"14\"/>\n",
       "<circle clip-path=\"url(#clip3902)\" style=\"fill:#0000ff; stroke:none; fill-opacity:1\" cx=\"1280.76\" cy=\"270.038\" r=\"10\"/>\n",
       "<circle clip-path=\"url(#clip3902)\" style=\"fill:#000000; stroke:none; fill-opacity:1\" cx=\"991.957\" cy=\"405.883\" r=\"14\"/>\n",
       "<circle clip-path=\"url(#clip3902)\" style=\"fill:#0000ff; stroke:none; fill-opacity:1\" cx=\"991.957\" cy=\"405.883\" r=\"10\"/>\n",
       "<circle clip-path=\"url(#clip3902)\" style=\"fill:#000000; stroke:none; fill-opacity:1\" cx=\"742.654\" cy=\"573.353\" r=\"14\"/>\n",
       "<circle clip-path=\"url(#clip3902)\" style=\"fill:#0000ff; stroke:none; fill-opacity:1\" cx=\"742.654\" cy=\"573.353\" r=\"10\"/>\n",
       "<circle clip-path=\"url(#clip3902)\" style=\"fill:#000000; stroke:none; fill-opacity:1\" cx=\"540.43\" cy=\"767.359\" r=\"14\"/>\n",
       "<circle clip-path=\"url(#clip3902)\" style=\"fill:#0000ff; stroke:none; fill-opacity:1\" cx=\"540.43\" cy=\"767.359\" r=\"10\"/>\n",
       "<circle clip-path=\"url(#clip3902)\" style=\"fill:#000000; stroke:none; fill-opacity:1\" cx=\"391.429\" cy=\"982.008\" r=\"14\"/>\n",
       "<circle clip-path=\"url(#clip3902)\" style=\"fill:#0000ff; stroke:none; fill-opacity:1\" cx=\"391.429\" cy=\"982.008\" r=\"10\"/>\n",
       "<circle clip-path=\"url(#clip3902)\" style=\"fill:#000000; stroke:none; fill-opacity:1\" cx=\"300.177\" cy=\"1210.78\" r=\"14\"/>\n",
       "<circle clip-path=\"url(#clip3902)\" style=\"fill:#0000ff; stroke:none; fill-opacity:1\" cx=\"300.177\" cy=\"1210.78\" r=\"10\"/>\n",
       "<circle clip-path=\"url(#clip3902)\" style=\"fill:#000000; stroke:none; fill-opacity:1\" cx=\"269.449\" cy=\"1446.71\" r=\"14\"/>\n",
       "<circle clip-path=\"url(#clip3902)\" style=\"fill:#0000ff; stroke:none; fill-opacity:1\" cx=\"269.449\" cy=\"1446.71\" r=\"10\"/>\n",
       "<circle clip-path=\"url(#clip3902)\" style=\"fill:#000000; stroke:none; fill-opacity:1\" cx=\"2292.08\" cy=\"88.0053\" r=\"25\"/>\n",
       "<circle clip-path=\"url(#clip3902)\" style=\"fill:#ff0000; stroke:none; fill-opacity:1\" cx=\"2292.08\" cy=\"88.0053\" r=\"21\"/>\n",
       "<circle clip-path=\"url(#clip3902)\" style=\"fill:#000000; stroke:none; fill-opacity:1\" cx=\"269.449\" cy=\"1446.71\" r=\"25\"/>\n",
       "<circle clip-path=\"url(#clip3902)\" style=\"fill:#ff0000; stroke:none; fill-opacity:1\" cx=\"269.449\" cy=\"1446.71\" r=\"21\"/>\n",
       "</svg>\n"
      ]
     },
     "execution_count": 7,
     "metadata": {},
     "output_type": "execute_result"
    }
   ],
   "source": [
    "show(meshdef)"
   ]
  },
  {
   "cell_type": "code",
   "execution_count": null,
   "metadata": {},
   "outputs": [],
   "source": []
  }
 ],
 "metadata": {
  "kernelspec": {
   "display_name": "Julia 1.2.0",
   "language": "julia",
   "name": "julia-1.2"
  },
  "language_info": {
   "file_extension": ".jl",
   "mimetype": "application/julia",
   "name": "julia",
   "version": "1.2.0"
  }
 },
 "nbformat": 4,
 "nbformat_minor": 4
}
