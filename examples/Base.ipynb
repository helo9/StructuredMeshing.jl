{
 "cells": [
  {
   "cell_type": "code",
   "execution_count": 1,
   "metadata": {},
   "outputs": [],
   "source": [
    "using LinearAlgebra"
   ]
  },
  {
   "cell_type": "code",
   "execution_count": 2,
   "metadata": {},
   "outputs": [
    {
     "data": {
      "text/plain": [
       "Main.StructuredMeshing"
      ]
     },
     "execution_count": 2,
     "metadata": {},
     "output_type": "execute_result"
    }
   ],
   "source": [
    "include(\"../src/StructuredMeshing.jl\")"
   ]
  },
  {
   "cell_type": "code",
   "execution_count": 8,
   "metadata": {},
   "outputs": [
    {
     "data": {
      "text/plain": [
       "4"
      ]
     },
     "execution_count": 8,
     "metadata": {},
     "output_type": "execute_result"
    }
   ],
   "source": [
    "meshdef = StructuredMeshing.emptyMeshDef()\n",
    "\n",
    "vert = StructuredMeshing.addVertice(meshdef, [0.0, 0.0])\n",
    "\n",
    "boundlink = StructuredMeshing.extrude(meshdef, vert, [1.0, 0.0, ], 1.5, 10, 1.0)\n",
    "\n",
    "#extrude(meshdef, boundlink, [0.0, 1.0], 1.5, 10, 0.8)\n",
    "\n",
    "StructuredMeshing.transitionextrude(meshdef, boundlink, [0.0, -1.0], 5)\n",
    "\n",
    "meshdef\n",
    "\n",
    "size(meshdef.vertices, 1)"
   ]
  },
  {
   "cell_type": "code",
   "execution_count": 9,
   "metadata": {},
   "outputs": [
    {
     "name": "stdout",
     "output_type": "stream",
     "text": [
      "Main.StructuredMeshing.MeshDef(Dict{Symbol,Any}[Dict(:type=>:transition,:bounds=>[1, 2, 4, -3])], Main.StructuredMeshing.Boundary[Boundary(:straight, 1, 2, 10, 1.0), Boundary(:straight, 1, 3, 5, -0.5), Boundary(:straight, 2, 4, 5, -0.5), Boundary(:straight, 4, 3, 10, -1.0)], Array{Float64,1}[[0.0, 0.0], [1.5, 0.0], [0.0, 10.3333], [1.5, 10.3333]])"
     ]
    }
   ],
   "source": [
    "show(meshdef)"
   ]
  },
  {
   "cell_type": "code",
   "execution_count": 5,
   "metadata": {},
   "outputs": [
    {
     "data": {
      "text/plain": [
       "defineCartesian (generic function with 1 method)"
      ]
     },
     "execution_count": 5,
     "metadata": {},
     "output_type": "execute_result"
    }
   ],
   "source": []
  },
  {
   "cell_type": "code",
   "execution_count": 6,
   "metadata": {},
   "outputs": [
    {
     "data": {
      "text/plain": [
       "verthasNode (generic function with 1 method)"
      ]
     },
     "execution_count": 6,
     "metadata": {},
     "output_type": "execute_result"
    }
   ],
   "source": []
  },
  {
   "cell_type": "code",
   "execution_count": 7,
   "metadata": {},
   "outputs": [
    {
     "data": {
      "text/plain": [
       "translateNodes! (generic function with 1 method)"
      ]
     },
     "execution_count": 7,
     "metadata": {},
     "output_type": "execute_result"
    }
   ],
   "source": []
  },
  {
   "cell_type": "code",
   "execution_count": 8,
   "metadata": {},
   "outputs": [
    {
     "data": {
      "text/plain": [
       "appendElement! (generic function with 1 method)"
      ]
     },
     "execution_count": 8,
     "metadata": {},
     "output_type": "execute_result"
    }
   ],
   "source": []
  },
  {
   "cell_type": "code",
   "execution_count": 89,
   "metadata": {},
   "outputs": [
    {
     "data": {
      "text/plain": [
       "appendBoundaryNodes! (generic function with 1 method)"
      ]
     },
     "execution_count": 89,
     "metadata": {},
     "output_type": "execute_result"
    }
   ],
   "source": []
  },
  {
   "cell_type": "code",
   "execution_count": 10,
   "metadata": {},
   "outputs": [
    {
     "ename": "UndefVarError",
     "evalue": "UndefVarError: emptyMeshDef not defined",
     "output_type": "error",
     "traceback": [
      "UndefVarError: emptyMeshDef not defined",
      "",
      "Stacktrace:",
      " [1] top-level scope at In[10]:1"
     ]
    }
   ],
   "source": [
    "meshdef = emptyMeshDef()\n",
    "\n",
    "vert = addVertice(meshdef, [0.0, 0.0])\n",
    "\n",
    "boundlink = extrude(meshdef, vert, [1.0, 0.0, ], 1.5, 10, 0.5)\n",
    "\n",
    "extrude(meshdef, boundlink, [0.0, 1.0], 1.5, 10, 1/1.1)\n",
    "extrude(meshdef, boundlink, [0.0, -1.0], 1.5, 10, 1/2)\n",
    "\n",
    "meshdef\n",
    "\n",
    "size(meshdef.vertices, 1)\n",
    "\n",
    "p = show(meshdef)"
   ]
  },
  {
   "cell_type": "code",
   "execution_count": 23,
   "metadata": {},
   "outputs": [
    {
     "ename": "MethodError",
     "evalue": "MethodError: no method matching ^(::Float64, ::Array{Float64,1})\nClosest candidates are:\n  ^(::Float64, !Matched::Float64) at math.jl:780\n  ^(::Float64, !Matched::Integer) at math.jl:793\n  ^(::T<:Real, !Matched::Complex{T<:Real}) where T<:Real at complex.jl:738\n  ...",
     "output_type": "error",
     "traceback": [
      "MethodError: no method matching ^(::Float64, ::Array{Float64,1})\nClosest candidates are:\n  ^(::Float64, !Matched::Float64) at math.jl:780\n  ^(::Float64, !Matched::Integer) at math.jl:793\n  ^(::T<:Real, !Matched::Complex{T<:Real}) where T<:Real at complex.jl:738\n  ...",
      "",
      "Stacktrace:",
      " [1] appendBoundaryNodes!(::Mesh, ::Boundary, ::Array{Array{Float64,1},1}, ::Bool, ::Bool) at ./In[22]:16",
      " [2] generateBoundaryMesh!(::Mesh, ::MeshDef) at ./In[7]:28",
      " [3] generateMesh(::MeshDef) at ./In[7]:57",
      " [4] top-level scope at util.jl:156",
      " [5] top-level scope at In[23]:1"
     ]
    }
   ],
   "source": [
    "#meshdef = defineCartesian(0.0, 0.0, 1.0, 10.0, 1000, 500)\n",
    "\n",
    "@time mesh = generateMesh(meshdef);"
   ]
  },
  {
   "cell_type": "code",
   "execution_count": 170,
   "metadata": {},
   "outputs": [],
   "source": [
    "writeAbq(\"test.inp\", mesh)"
   ]
  },
  {
   "cell_type": "code",
   "execution_count": 15,
   "metadata": {},
   "outputs": [
    {
     "ename": "MethodError",
     "evalue": "MethodError: no method matching show!(::MeshDef)\nClosest candidates are:\n  show!(!Matched::Plots.Plot, !Matched::Boundary, !Matched::MeshDef) at In[14]:6\n  show!(!Matched::Plots.Plot, !Matched::Array{Float64,1}) at In[14]:14\n  show!(!Matched::Plots.Plot, !Matched::Mesh) at In[14]:19",
     "output_type": "error",
     "traceback": [
      "MethodError: no method matching show!(::MeshDef)\nClosest candidates are:\n  show!(!Matched::Plots.Plot, !Matched::Boundary, !Matched::MeshDef) at In[14]:6\n  show!(!Matched::Plots.Plot, !Matched::Array{Float64,1}) at In[14]:14\n  show!(!Matched::Plots.Plot, !Matched::Mesh) at In[14]:19",
      "",
      "Stacktrace:",
      " [1] top-level scope at In[15]:1"
     ]
    }
   ],
   "source": [
    "show!(meshdef)"
   ]
  },
  {
   "cell_type": "code",
   "execution_count": null,
   "metadata": {},
   "outputs": [],
   "source": []
  }
 ],
 "metadata": {
  "kernelspec": {
   "display_name": "Julia 1.0.2",
   "language": "julia",
   "name": "julia-1.0"
  },
  "language_info": {
   "file_extension": ".jl",
   "mimetype": "application/julia",
   "name": "julia",
   "version": "1.0.2"
  }
 },
 "nbformat": 4,
 "nbformat_minor": 2
}
