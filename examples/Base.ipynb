{
 "cells": [
  {
   "cell_type": "code",
   "execution_count": 1,
   "metadata": {},
   "outputs": [],
   "source": [
    "struct Boundary\n",
    "    boundtype :: Symbol\n",
    "    vertice_start :: Int64\n",
    "    vertice_end :: Int64\n",
    "    node_num :: Int64\n",
    "end\n",
    "\n",
    "struct MeshDef\n",
    "    blocks :: Vector{Dict{Symbol, Any}}\n",
    "    bounds :: Vector{Boundary}\n",
    "    vertices :: Vector{Vector{Float64}}\n",
    "end"
   ]
  },
  {
   "cell_type": "code",
   "execution_count": 2,
   "metadata": {},
   "outputs": [
    {
     "data": {
      "text/plain": [
       "defineCartesian (generic function with 1 method)"
      ]
     },
     "execution_count": 2,
     "metadata": {},
     "output_type": "execute_result"
    }
   ],
   "source": [
    "function defineCartesian(xmin::Float64, ymin::Float64, xmax::Float64, ymax::Float64, nx::Int64, ny::Int64)\n",
    "    # Create vertices\n",
    "    vertices = [[xmin, ymin], [xmax, ymin], [xmax, ymax], [xmin, ymax]]\n",
    "    \n",
    "    # Create Bounds\n",
    "    bounds = Vector{Boundary}(undef, 4)\n",
    "    for i in 1:4\n",
    "        n = i in (1,3) ? nx : ny\n",
    "        bounds[i] = Boundary(:equidistant, i, i%4+1, n)\n",
    "    end\n",
    "\n",
    "    blocks = [Dict(:type=>:cartesian, :bounds=>[1,2,3,4])]\n",
    "        \n",
    "    return MeshDef(blocks, bounds, vertices)\n",
    "end"
   ]
  },
  {
   "cell_type": "code",
   "execution_count": 166,
   "metadata": {},
   "outputs": [
    {
     "data": {
      "text/plain": [
       "verthasNode (generic function with 1 method)"
      ]
     },
     "execution_count": 166,
     "metadata": {},
     "output_type": "execute_result"
    }
   ],
   "source": [
    "mutable struct Mesh\n",
    "    nodes :: Vector{Vector{Float64}}\n",
    "    elements :: Vector{Vector{Int64}}\n",
    "end\n",
    "\n",
    "function emptyMesh()\n",
    "    Mesh(Vector{Float64}[], Vector{Int64}[])\n",
    "end\n",
    "\n",
    "function generateMesh(meshdefinition::MeshDef)\n",
    "    \n",
    "    # disable garbage collection during mesh creation\n",
    "    GC.enable(false)\n",
    "    \n",
    "    # create an empty Mesh object\n",
    "    mesh = emptyMesh()\n",
    "    \n",
    "    # create Dict for Node mapping, mapping of node_ids to boundary respectiveley vertice ids\n",
    "    nodeMapping = Dict(:vertice => Dict{Int64, Int64}(), :boundary => Dict{Int64, Vector{Int64}}())\n",
    "    \n",
    "    # create nodes on bounds\n",
    "    for (boundary_id, boundary) in enumerate(meshdefinition.bounds)\n",
    "        \n",
    "        skipFirst = false\n",
    "        if verthasNode(nodeMapping, boundary.vertice_start)\n",
    "            skipFirst = true\n",
    "        end\n",
    "        \n",
    "        skipLast = false\n",
    "        if verthasNode(nodeMapping, boundary.vertice_end)\n",
    "            skipLast = true\n",
    "        end\n",
    "        \n",
    "        node_ids = appendBoundaryNodes!(mesh, boundary, meshdefinition.vertices, skipFirst, skipLast)\n",
    "        \n",
    "        nodeMapping[:boundary][boundary_id] = node_ids\n",
    "        \n",
    "        # add created nodes to nodeMapping\n",
    "        if !skipFirst\n",
    "            nodeMapping[:vertice][boundary.vertice_start] = node_ids[1]\n",
    "        else\n",
    "            insert!(nodeMapping[:boundary][boundary_id], 1, nodeMapping[:vertice][boundary.vertice_start])\n",
    "        end\n",
    "        if !skipLast\n",
    "            nodeMapping[:vertice][boundary.vertice_end] = node_ids[end]\n",
    "        else\n",
    "            push!(nodeMapping[:boundary][boundary_id], nodeMapping[:vertice][boundary.vertice_end])\n",
    "        end\n",
    "    end\n",
    "        \n",
    "    # generate blocks\n",
    "    for (block_id, block) in enumerate(meshdefinition.blocks)\n",
    "                \n",
    "        block_bounds = [meshdef.bounds[i] for i in block[:bounds]]\n",
    "                \n",
    "        addBlock!(mesh, block, block_bounds, nodeMapping)\n",
    "    end\n",
    "    \n",
    "    GC.enable(true)\n",
    "            \n",
    "    return mesh\n",
    "end\n",
    "\n",
    "function verthasNode(nodeMapping, vert_id)\n",
    "    return haskey(nodeMapping[:vertice], vert_id)\n",
    "end"
   ]
  },
  {
   "cell_type": "code",
   "execution_count": 159,
   "metadata": {},
   "outputs": [
    {
     "data": {
      "text/plain": [
       "translateNodes! (generic function with 1 method)"
      ]
     },
     "execution_count": 159,
     "metadata": {},
     "output_type": "execute_result"
    }
   ],
   "source": [
    "function addBlock!(mesh::Mesh, block, bounds, nodeMapping)\n",
    "    if !(block[:type] == :cartesian)\n",
    "        throw(DomainError())\n",
    "    end\n",
    "    \n",
    "    # extract blocks boundaries\n",
    "    boundary_ids = block[:bounds]\n",
    "    boundaries = bounds[boundary_ids]\n",
    "    \n",
    "    # number of nodes in directions 1 (bound1, -bound3)\n",
    "    #   and 2 (bound2, -bound4)\n",
    "    n1 = boundaries[1].node_num\n",
    "    n2 = boundaries[2].node_num\n",
    "    # TODO: check other bounds, throw Exception\n",
    "    \n",
    "    # get boundary nodes for first boundary from nodeMapping\n",
    "    node_ids = nodeMapping[:boundary][boundary_ids[1]]\n",
    "\n",
    "    \n",
    "    # coords of second bound\n",
    "    coords = mesh.nodes[nodeMapping[:boundary][boundary_ids[2]]]\n",
    "    \n",
    "    # iterate over second dimension of block\n",
    "    for i in 2:n2\n",
    "        \n",
    "        # store recent nodes\n",
    "        last_node_ids = node_ids\n",
    "        \n",
    "        # generate next nodes\n",
    "        if i<n2\n",
    "            # calculate translation\n",
    "            translation = coords[i]-coords[i-1]\n",
    "\n",
    "            # copy nodes\n",
    "            new_node_ids = translateNodes!(mesh, node_ids[2:end-1], translation, copynodes=true)\n",
    "            \n",
    "            node_ids = [nodeMapping[:boundary][boundary_ids[4]][end-(i-1)],\n",
    "                        new_node_ids..., \n",
    "                        nodeMapping[:boundary][boundary_ids[2]][i]] \n",
    "        else\n",
    "            node_ids = nodeMapping[:boundary][boundary_ids[3]][end:-1:1]\n",
    "        end\n",
    "            \n",
    "        # all nodes of current row\n",
    "        \n",
    "            \n",
    "        for j in 2:n1\n",
    "            # create Elements\n",
    "                \n",
    "            el_node1 = last_node_ids[j-1]\n",
    "            el_node2 = last_node_ids[j]\n",
    "            el_node3 = node_ids[j]\n",
    "            el_node4 = node_ids[j-1]\n",
    "            \n",
    "            el_nodes = [el_node1, el_node2, el_node3, el_node4]\n",
    "            \n",
    "            el_id = appendElement!(mesh, el_nodes)\n",
    "        end\n",
    "    end\n",
    "end\n",
    "\n",
    "function translateNodes!(mesh::Mesh, node_ids::Vector{Int64}, translation::Vector{Float64}; copynodes::Bool=true)\n",
    "    if !copynodes\n",
    "        throw(DomainError())\n",
    "    end\n",
    "    \n",
    "    coords = []\n",
    "        \n",
    "    for node_id in node_ids\n",
    "        push!(coords, mesh.nodes[node_id]+translation)\n",
    "    end\n",
    "            \n",
    "    node_ids_new = appendNodes!(mesh, coords)\n",
    "    \n",
    "    return node_ids_new\n",
    "end"
   ]
  },
  {
   "cell_type": "code",
   "execution_count": 124,
   "metadata": {},
   "outputs": [
    {
     "data": {
      "text/plain": [
       "appendElement! (generic function with 1 method)"
      ]
     },
     "execution_count": 124,
     "metadata": {},
     "output_type": "execute_result"
    }
   ],
   "source": [
    "function appendNodes!(mesh::Mesh, nodecoords)\n",
    "    start_id = size(mesh.nodes, 1)+1\n",
    "    length = size(nodecoords, 1)\n",
    "    \n",
    "    append!(mesh.nodes, nodecoords)\n",
    "    \n",
    "    return collect(start_id:1:start_id+length-1)\n",
    "end\n",
    "\n",
    "function appendElement!(mesh::Mesh, node_ids)\n",
    "    push!(mesh.elements, node_ids)\n",
    "end"
   ]
  },
  {
   "cell_type": "code",
   "execution_count": 125,
   "metadata": {},
   "outputs": [
    {
     "data": {
      "text/plain": [
       "appendBoundaryNodes! (generic function with 1 method)"
      ]
     },
     "execution_count": 125,
     "metadata": {},
     "output_type": "execute_result"
    }
   ],
   "source": [
    "function appendBoundaryNodes!(mesh::Mesh, boundary::Boundary, vertices, skipFirst::Bool, skipLast::Bool)\n",
    "    if boundary.boundtype != :equidistant\n",
    "        throw(DomainError())\n",
    "    end\n",
    "    \n",
    "    # get coordinates of start and end point\n",
    "    coords1 = vertices[boundary.vertice_start]\n",
    "    coords2 = vertices[boundary.vertice_end]\n",
    "\n",
    "    # linear interpolation to get all coordinates    \n",
    "    Δcoords = coords2-coords1\n",
    "    linspace = collect(range(0, length=boundary.node_num, stop=1 ))\n",
    "    nodes = [coords1 + Δcoords * ω for ω in linspace]\n",
    "    \n",
    "    #\n",
    "    id1 = skipFirst ? 2 : 1\n",
    "    id2 = skipLast ? 1 : 0\n",
    "    \n",
    "    nodeids = appendNodes!(mesh, nodes[id1:end-id2])\n",
    "    \n",
    "    return nodeids\n",
    "end"
   ]
  },
  {
   "cell_type": "code",
   "execution_count": 98,
   "metadata": {},
   "outputs": [
    {
     "data": {
      "text/plain": [
       "writeAbq (generic function with 1 method)"
      ]
     },
     "execution_count": 98,
     "metadata": {},
     "output_type": "execute_result"
    }
   ],
   "source": [
    "using Formatting\n",
    "\n",
    "function writeAbq(filename::String, mesh::Mesh)\n",
    "    # open file\n",
    "    open(filename, \"w\") do afile\n",
    "        # node header\n",
    "        write(afile, \"*Node\\n\")\n",
    "        \n",
    "        # node coordinates\n",
    "        for (nodeid, nodecoords) in enumerate(mesh.nodes)\n",
    "            write(afile, format(\"{}, {}, {}\\n\", nodeid, nodecoords...))\n",
    "        end\n",
    "        \n",
    "        # element header\n",
    "        write(afile, \"*Element, type=CPS4R\\n\")\n",
    "        \n",
    "        # elements\n",
    "        for (elid, element) in enumerate(mesh.elements)\n",
    "            write(afile, format(\"{}, {}, {}, {}, {}\\n\", elid, element...))\n",
    "        end\n",
    "    end\n",
    "end"
   ]
  },
  {
   "cell_type": "code",
   "execution_count": 152,
   "metadata": {},
   "outputs": [
    {
     "data": {
      "text/plain": [
       "1500-element Array{Array{Float64,1},1}:\n",
       " [0.0, 0.0]          \n",
       " [0.0204082, 0.0]    \n",
       " [0.0408163, 0.0]    \n",
       " [0.0612245, 0.0]    \n",
       " [0.0816327, 0.0]    \n",
       " [0.102041, 0.0]     \n",
       " [0.122449, 0.0]     \n",
       " [0.142857, 0.0]     \n",
       " [0.163265, 0.0]     \n",
       " [0.183673, 0.0]     \n",
       " [0.204082, 0.0]     \n",
       " [0.22449, 0.0]      \n",
       " [0.244898, 0.0]     \n",
       " ⋮                   \n",
       " [0.755102, 0.965517]\n",
       " [0.77551, 0.965517] \n",
       " [0.795918, 0.965517]\n",
       " [0.816327, 0.965517]\n",
       " [0.836735, 0.965517]\n",
       " [0.857143, 0.965517]\n",
       " [0.877551, 0.965517]\n",
       " [0.897959, 0.965517]\n",
       " [0.918367, 0.965517]\n",
       " [0.938776, 0.965517]\n",
       " [0.959184, 0.965517]\n",
       " [0.979592, 0.965517]"
      ]
     },
     "execution_count": 152,
     "metadata": {},
     "output_type": "execute_result"
    }
   ],
   "source": [
    "mesh.nodes"
   ]
  },
  {
   "cell_type": "code",
   "execution_count": 165,
   "metadata": {},
   "outputs": [
    {
     "data": {
      "text/plain": [
       "Base.GC"
      ]
     },
     "execution_count": 165,
     "metadata": {},
     "output_type": "execute_result"
    }
   ],
   "source": [
    "GC.enable(false)"
   ]
  },
  {
   "cell_type": "code",
   "execution_count": 175,
   "metadata": {},
   "outputs": [
    {
     "name": "stdout",
     "output_type": "stream",
     "text": [
      "  0.380032 seconds (5.48 M allocations: 209.554 MiB, 24.06% gc time)\n"
     ]
    }
   ],
   "source": [
    "meshdef = defineCartesian(0.0, 0.0, 1.0, 10.0, 1000, 500)\n",
    "\n",
    "@time mesh = generateMesh(meshdef);"
   ]
  },
  {
   "cell_type": "code",
   "execution_count": 170,
   "metadata": {},
   "outputs": [],
   "source": [
    "writeAbq(\"test.inp\", mesh)"
   ]
  },
  {
   "cell_type": "code",
   "execution_count": 171,
   "metadata": {},
   "outputs": [
    {
     "data": {
      "text/latex": [
       "\\begin{tabular}\n",
       "{l | r | l}\n",
       "name & size & summary \\\\\n",
       "\\hline\n",
       "Base &  & Module \\\\\n",
       "Boundary & 212 bytes & DataType \\\\\n",
       "Core &  & Module \\\\\n",
       "Main &  & Module \\\\\n",
       "Mesh & 196 bytes & DataType \\\\\n",
       "MeshDef & 204 bytes & DataType \\\\\n",
       "a & 72 bytes & 4-element Array\\{Int64,1\\} \\\\\n",
       "addBlock! & 0 bytes & typeof(addBlock!) \\\\\n",
       "addElement! & 0 bytes & typeof(addElement!) \\\\\n",
       "appendBoundaryNodes! & 0 bytes & typeof(appendBoundaryNodes!) \\\\\n",
       "appendElement! & 0 bytes & typeof(appendElement!) \\\\\n",
       "appendNodes! & 0 bytes & typeof(appendNodes!) \\\\\n",
       "defineCartesian & 0 bytes & typeof(defineCartesian) \\\\\n",
       "emptyMesh & 0 bytes & typeof(emptyMesh) \\\\\n",
       "generateMesh & 0 bytes & typeof(generateMesh) \\\\\n",
       "mesh & 20.538 MiB & Mesh \\\\\n",
       "meshdef & 1.070 KiB & MeshDef \\\\\n",
       "startupfile & 50 bytes & String \\\\\n",
       "translateNodes! & 0 bytes & typeof(translateNodes!) \\\\\n",
       "verthasNode & 0 bytes & typeof(verthasNode) \\\\\n",
       "writeAbq & 0 bytes & typeof(writeAbq) \\\\\n",
       "\\end{tabular}\n"
      ],
      "text/markdown": [
       "| name                 |       size | summary                      |\n",
       "|:-------------------- | ----------:|:---------------------------- |\n",
       "| Base                 |            | Module                       |\n",
       "| Boundary             |  212 bytes | DataType                     |\n",
       "| Core                 |            | Module                       |\n",
       "| Main                 |            | Module                       |\n",
       "| Mesh                 |  196 bytes | DataType                     |\n",
       "| MeshDef              |  204 bytes | DataType                     |\n",
       "| a                    |   72 bytes | 4-element Array{Int64,1}     |\n",
       "| addBlock!            |    0 bytes | typeof(addBlock!)            |\n",
       "| addElement!          |    0 bytes | typeof(addElement!)          |\n",
       "| appendBoundaryNodes! |    0 bytes | typeof(appendBoundaryNodes!) |\n",
       "| appendElement!       |    0 bytes | typeof(appendElement!)       |\n",
       "| appendNodes!         |    0 bytes | typeof(appendNodes!)         |\n",
       "| defineCartesian      |    0 bytes | typeof(defineCartesian)      |\n",
       "| emptyMesh            |    0 bytes | typeof(emptyMesh)            |\n",
       "| generateMesh         |    0 bytes | typeof(generateMesh)         |\n",
       "| mesh                 | 20.538 MiB | Mesh                         |\n",
       "| meshdef              |  1.070 KiB | MeshDef                      |\n",
       "| startupfile          |   50 bytes | String                       |\n",
       "| translateNodes!      |    0 bytes | typeof(translateNodes!)      |\n",
       "| verthasNode          |    0 bytes | typeof(verthasNode)          |\n",
       "| writeAbq             |    0 bytes | typeof(writeAbq)             |\n"
      ],
      "text/plain": [
       "name                       size summary                     \n",
       "–––––––––––––––––––– –––––––––– ––––––––––––––––––––––––––––\n",
       "Base                            Module                      \n",
       "Boundary              212 bytes DataType                    \n",
       "Core                            Module                      \n",
       "Main                            Module                      \n",
       "Mesh                  196 bytes DataType                    \n",
       "MeshDef               204 bytes DataType                    \n",
       "a                      72 bytes 4-element Array{Int64,1}    \n",
       "addBlock!               0 bytes typeof(addBlock!)           \n",
       "addElement!             0 bytes typeof(addElement!)         \n",
       "appendBoundaryNodes!    0 bytes typeof(appendBoundaryNodes!)\n",
       "appendElement!          0 bytes typeof(appendElement!)      \n",
       "appendNodes!            0 bytes typeof(appendNodes!)        \n",
       "defineCartesian         0 bytes typeof(defineCartesian)     \n",
       "emptyMesh               0 bytes typeof(emptyMesh)           \n",
       "generateMesh            0 bytes typeof(generateMesh)        \n",
       "mesh                 20.538 MiB Mesh                        \n",
       "meshdef               1.070 KiB MeshDef                     \n",
       "startupfile            50 bytes String                      \n",
       "translateNodes!         0 bytes typeof(translateNodes!)     \n",
       "verthasNode             0 bytes typeof(verthasNode)         \n",
       "writeAbq                0 bytes typeof(writeAbq)            "
      ]
     },
     "execution_count": 171,
     "metadata": {},
     "output_type": "execute_result"
    }
   ],
   "source": [
    "varinfo()"
   ]
  },
  {
   "cell_type": "code",
   "execution_count": null,
   "metadata": {},
   "outputs": [],
   "source": []
  }
 ],
 "metadata": {
  "kernelspec": {
   "display_name": "Julia 1.0.2",
   "language": "julia",
   "name": "julia-1.0"
  },
  "language_info": {
   "file_extension": ".jl",
   "mimetype": "application/julia",
   "name": "julia",
   "version": "1.0.2"
  }
 },
 "nbformat": 4,
 "nbformat_minor": 2
}
