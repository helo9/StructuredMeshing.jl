{
 "cells": [
  {
   "cell_type": "code",
   "execution_count": 1,
   "metadata": {},
   "outputs": [],
   "source": [
    "using LinearAlgebra"
   ]
  },
  {
   "cell_type": "code",
   "execution_count": 2,
   "metadata": {},
   "outputs": [
    {
     "data": {
      "text/plain": [
       "Main.StructuredMeshing"
      ]
     },
     "execution_count": 2,
     "metadata": {},
     "output_type": "execute_result"
    }
   ],
   "source": [
    "include(\"../src/StructuredMeshing.jl\")"
   ]
  },
  {
   "cell_type": "code",
   "execution_count": 3,
   "metadata": {},
   "outputs": [
    {
     "name": "stdout",
     "output_type": "stream",
     "text": [
      "[-0.0, 1.0]\n",
      "[0.0, 1.0]\n",
      "jo 0.0\n",
      "N: 3\n"
     ]
    },
    {
     "data": {
      "text/plain": [
       "Main.StructuredMeshing.MeshDef(Dict{Symbol,Any}[Dict(:type=>:transfinite,:bounds=>[1, 2, 4, -3]), Dict(:type=>:transition,:bounds=>[1, 5, 7, -6])], Main.StructuredMeshing.Boundary[Boundary(:straight, 1, 2, 17, -1.0), Boundary(:straight, 1, 3, 10, -0.8), Boundary(:straight, 2, 4, 10, -0.8), Boundary(:straight, 4, 3, 17, 1.0), Boundary(:straight, 1, 5, 4, -0.5), Boundary(:straight, 2, 6, 4, -0.5), Boundary(:straight, 6, 5, 3, 1.0)], Array{Float64,1}[[0.0, 0.0], [1.0, 0.0], [0.0, -1.5], [1.0, -1.5], [0.0, 0.875], [1.0, 0.875]])"
      ]
     },
     "execution_count": 3,
     "metadata": {},
     "output_type": "execute_result"
    }
   ],
   "source": [
    "meshdef = StructuredMeshing.emptyMeshDef()\n",
    "\n",
    "vert = StructuredMeshing.addVertice(meshdef, [0.0, 0.0])\n",
    "\n",
    "boundlink = StructuredMeshing.extrude(meshdef, vert, [1.0, 0.0, ], 1.0, 16+1, 1.0)\n",
    "\n",
    "StructuredMeshing.extrude(meshdef, boundlink, [0.0, -1.0], 1.5, 10, 0.8)\n",
    "\n",
    "blocklink = StructuredMeshing.transitionextrude(meshdef, boundlink, [0.0, 1.0], 3)\n",
    "\n",
    "meshdef"
   ]
  },
  {
   "cell_type": "code",
   "execution_count": 4,
   "metadata": {},
   "outputs": [
    {
     "name": "stdout",
     "output_type": "stream",
     "text": [
      "falsefalse\n",
      "equal\n",
      "truefalse\n",
      "99\n",
      "truefalse\n",
      "99\n",
      "truetrue\n",
      "equal\n",
      "truefalse\n",
      "33\n",
      "truefalse\n",
      "33\n",
      "truetrue\n",
      "equal\n"
     ]
    },
    {
     "data": {
      "image/svg+xml": [
       "<?xml version=\"1.0\" encoding=\"utf-8\"?>\n",
       "<svg xmlns=\"http://www.w3.org/2000/svg\" xmlns:xlink=\"http://www.w3.org/1999/xlink\" width=\"600\" height=\"400\" viewBox=\"0 0 2400 1600\">\n",
       "<defs>\n",
       "  <clipPath id=\"clip1600\">\n",
       "    <rect x=\"0\" y=\"0\" width=\"2000\" height=\"2000\"/>\n",
       "  </clipPath>\n",
       "</defs>\n",
       "<defs>\n",
       "  <clipPath id=\"clip1601\">\n",
       "    <rect x=\"0\" y=\"0\" width=\"2400\" height=\"1600\"/>\n",
       "  </clipPath>\n",
       "</defs>\n",
       "<polygon clip-path=\"url(#clip1601)\" points=\"\n",
       "0,1600 2400,1600 2400,0 0,0 \n",
       "  \" fill=\"#ffffff\" fill-rule=\"evenodd\" fill-opacity=\"1\"/>\n",
       "<defs>\n",
       "  <clipPath id=\"clip1602\">\n",
       "    <rect x=\"480\" y=\"0\" width=\"1681\" height=\"1600\"/>\n",
       "  </clipPath>\n",
       "</defs>\n",
       "<polygon clip-path=\"url(#clip1601)\" points=\"\n",
       "189.504,1503.47 2321.26,1503.47 2321.26,47.2441 189.504,47.2441 \n",
       "  \" fill=\"#ffffff\" fill-rule=\"evenodd\" fill-opacity=\"1\"/>\n",
       "<defs>\n",
       "  <clipPath id=\"clip1603\">\n",
       "    <rect x=\"189\" y=\"47\" width=\"2133\" height=\"1457\"/>\n",
       "  </clipPath>\n",
       "</defs>\n",
       "<polyline clip-path=\"url(#clip1603)\" style=\"stroke:#000000; stroke-width:2; stroke-opacity:0.1; fill:none\" points=\"\n",
       "  249.837,1503.47 249.837,47.2441 \n",
       "  \"/>\n",
       "<polyline clip-path=\"url(#clip1603)\" style=\"stroke:#000000; stroke-width:2; stroke-opacity:0.1; fill:none\" points=\"\n",
       "  752.609,1503.47 752.609,47.2441 \n",
       "  \"/>\n",
       "<polyline clip-path=\"url(#clip1603)\" style=\"stroke:#000000; stroke-width:2; stroke-opacity:0.1; fill:none\" points=\"\n",
       "  1255.38,1503.47 1255.38,47.2441 \n",
       "  \"/>\n",
       "<polyline clip-path=\"url(#clip1603)\" style=\"stroke:#000000; stroke-width:2; stroke-opacity:0.1; fill:none\" points=\"\n",
       "  1758.15,1503.47 1758.15,47.2441 \n",
       "  \"/>\n",
       "<polyline clip-path=\"url(#clip1603)\" style=\"stroke:#000000; stroke-width:2; stroke-opacity:0.1; fill:none\" points=\"\n",
       "  2260.93,1503.47 2260.93,47.2441 \n",
       "  \"/>\n",
       "<polyline clip-path=\"url(#clip1603)\" style=\"stroke:#000000; stroke-width:2; stroke-opacity:0.1; fill:none\" points=\"\n",
       "  189.504,1462.26 2321.26,1462.26 \n",
       "  \"/>\n",
       "<polyline clip-path=\"url(#clip1603)\" style=\"stroke:#000000; stroke-width:2; stroke-opacity:0.1; fill:none\" points=\"\n",
       "  189.504,1173.04 2321.26,1173.04 \n",
       "  \"/>\n",
       "<polyline clip-path=\"url(#clip1603)\" style=\"stroke:#000000; stroke-width:2; stroke-opacity:0.1; fill:none\" points=\"\n",
       "  189.504,883.818 2321.26,883.818 \n",
       "  \"/>\n",
       "<polyline clip-path=\"url(#clip1603)\" style=\"stroke:#000000; stroke-width:2; stroke-opacity:0.1; fill:none\" points=\"\n",
       "  189.504,594.596 2321.26,594.596 \n",
       "  \"/>\n",
       "<polyline clip-path=\"url(#clip1603)\" style=\"stroke:#000000; stroke-width:2; stroke-opacity:0.1; fill:none\" points=\"\n",
       "  189.504,305.374 2321.26,305.374 \n",
       "  \"/>\n",
       "<polyline clip-path=\"url(#clip1601)\" style=\"stroke:#000000; stroke-width:4; stroke-opacity:1; fill:none\" points=\"\n",
       "  189.504,1503.47 2321.26,1503.47 \n",
       "  \"/>\n",
       "<polyline clip-path=\"url(#clip1601)\" style=\"stroke:#000000; stroke-width:4; stroke-opacity:1; fill:none\" points=\"\n",
       "  189.504,1503.47 189.504,47.2441 \n",
       "  \"/>\n",
       "<polyline clip-path=\"url(#clip1601)\" style=\"stroke:#000000; stroke-width:4; stroke-opacity:1; fill:none\" points=\"\n",
       "  249.837,1503.47 249.837,1481.63 \n",
       "  \"/>\n",
       "<polyline clip-path=\"url(#clip1601)\" style=\"stroke:#000000; stroke-width:4; stroke-opacity:1; fill:none\" points=\"\n",
       "  752.609,1503.47 752.609,1481.63 \n",
       "  \"/>\n",
       "<polyline clip-path=\"url(#clip1601)\" style=\"stroke:#000000; stroke-width:4; stroke-opacity:1; fill:none\" points=\"\n",
       "  1255.38,1503.47 1255.38,1481.63 \n",
       "  \"/>\n",
       "<polyline clip-path=\"url(#clip1601)\" style=\"stroke:#000000; stroke-width:4; stroke-opacity:1; fill:none\" points=\"\n",
       "  1758.15,1503.47 1758.15,1481.63 \n",
       "  \"/>\n",
       "<polyline clip-path=\"url(#clip1601)\" style=\"stroke:#000000; stroke-width:4; stroke-opacity:1; fill:none\" points=\"\n",
       "  2260.93,1503.47 2260.93,1481.63 \n",
       "  \"/>\n",
       "<polyline clip-path=\"url(#clip1601)\" style=\"stroke:#000000; stroke-width:4; stroke-opacity:1; fill:none\" points=\"\n",
       "  189.504,1462.26 221.48,1462.26 \n",
       "  \"/>\n",
       "<polyline clip-path=\"url(#clip1601)\" style=\"stroke:#000000; stroke-width:4; stroke-opacity:1; fill:none\" points=\"\n",
       "  189.504,1173.04 221.48,1173.04 \n",
       "  \"/>\n",
       "<polyline clip-path=\"url(#clip1601)\" style=\"stroke:#000000; stroke-width:4; stroke-opacity:1; fill:none\" points=\"\n",
       "  189.504,883.818 221.48,883.818 \n",
       "  \"/>\n",
       "<polyline clip-path=\"url(#clip1601)\" style=\"stroke:#000000; stroke-width:4; stroke-opacity:1; fill:none\" points=\"\n",
       "  189.504,594.596 221.48,594.596 \n",
       "  \"/>\n",
       "<polyline clip-path=\"url(#clip1601)\" style=\"stroke:#000000; stroke-width:4; stroke-opacity:1; fill:none\" points=\"\n",
       "  189.504,305.374 221.48,305.374 \n",
       "  \"/>\n",
       "<g clip-path=\"url(#clip1601)\">\n",
       "<text style=\"fill:#000000; fill-opacity:1; font-family:Arial,Helvetica Neue,Helvetica,sans-serif; font-size:48px; text-anchor:middle;\" transform=\"rotate(0, 249.837, 1557.47)\" x=\"249.837\" y=\"1557.47\">0.00</text>\n",
       "</g>\n",
       "<g clip-path=\"url(#clip1601)\">\n",
       "<text style=\"fill:#000000; fill-opacity:1; font-family:Arial,Helvetica Neue,Helvetica,sans-serif; font-size:48px; text-anchor:middle;\" transform=\"rotate(0, 752.609, 1557.47)\" x=\"752.609\" y=\"1557.47\">0.25</text>\n",
       "</g>\n",
       "<g clip-path=\"url(#clip1601)\">\n",
       "<text style=\"fill:#000000; fill-opacity:1; font-family:Arial,Helvetica Neue,Helvetica,sans-serif; font-size:48px; text-anchor:middle;\" transform=\"rotate(0, 1255.38, 1557.47)\" x=\"1255.38\" y=\"1557.47\">0.50</text>\n",
       "</g>\n",
       "<g clip-path=\"url(#clip1601)\">\n",
       "<text style=\"fill:#000000; fill-opacity:1; font-family:Arial,Helvetica Neue,Helvetica,sans-serif; font-size:48px; text-anchor:middle;\" transform=\"rotate(0, 1758.15, 1557.47)\" x=\"1758.15\" y=\"1557.47\">0.75</text>\n",
       "</g>\n",
       "<g clip-path=\"url(#clip1601)\">\n",
       "<text style=\"fill:#000000; fill-opacity:1; font-family:Arial,Helvetica Neue,Helvetica,sans-serif; font-size:48px; text-anchor:middle;\" transform=\"rotate(0, 2260.93, 1557.47)\" x=\"2260.93\" y=\"1557.47\">1.00</text>\n",
       "</g>\n",
       "<g clip-path=\"url(#clip1601)\">\n",
       "<text style=\"fill:#000000; fill-opacity:1; font-family:Arial,Helvetica Neue,Helvetica,sans-serif; font-size:48px; text-anchor:end;\" transform=\"rotate(0, 165.504, 1479.76)\" x=\"165.504\" y=\"1479.76\">-1.5</text>\n",
       "</g>\n",
       "<g clip-path=\"url(#clip1601)\">\n",
       "<text style=\"fill:#000000; fill-opacity:1; font-family:Arial,Helvetica Neue,Helvetica,sans-serif; font-size:48px; text-anchor:end;\" transform=\"rotate(0, 165.504, 1190.54)\" x=\"165.504\" y=\"1190.54\">-1.0</text>\n",
       "</g>\n",
       "<g clip-path=\"url(#clip1601)\">\n",
       "<text style=\"fill:#000000; fill-opacity:1; font-family:Arial,Helvetica Neue,Helvetica,sans-serif; font-size:48px; text-anchor:end;\" transform=\"rotate(0, 165.504, 901.318)\" x=\"165.504\" y=\"901.318\">-0.5</text>\n",
       "</g>\n",
       "<g clip-path=\"url(#clip1601)\">\n",
       "<text style=\"fill:#000000; fill-opacity:1; font-family:Arial,Helvetica Neue,Helvetica,sans-serif; font-size:48px; text-anchor:end;\" transform=\"rotate(0, 165.504, 612.096)\" x=\"165.504\" y=\"612.096\">0.0</text>\n",
       "</g>\n",
       "<g clip-path=\"url(#clip1601)\">\n",
       "<text style=\"fill:#000000; fill-opacity:1; font-family:Arial,Helvetica Neue,Helvetica,sans-serif; font-size:48px; text-anchor:end;\" transform=\"rotate(0, 165.504, 322.874)\" x=\"165.504\" y=\"322.874\">0.5</text>\n",
       "</g>\n",
       "<polyline clip-path=\"url(#clip1603)\" style=\"stroke:#0000ff; stroke-width:4; stroke-opacity:1; fill:none\" points=\"\n",
       "  249.837,594.596 2260.93,594.596 \n",
       "  \"/>\n",
       "<polyline clip-path=\"url(#clip1603)\" style=\"stroke:#0000ff; stroke-width:4; stroke-opacity:1; fill:none\" points=\"\n",
       "  249.837,594.596 249.837,1462.26 \n",
       "  \"/>\n",
       "<polyline clip-path=\"url(#clip1603)\" style=\"stroke:#0000ff; stroke-width:4; stroke-opacity:1; fill:none\" points=\"\n",
       "  2260.93,594.596 2260.93,1462.26 \n",
       "  \"/>\n",
       "<polyline clip-path=\"url(#clip1603)\" style=\"stroke:#0000ff; stroke-width:4; stroke-opacity:1; fill:none\" points=\"\n",
       "  2260.93,1462.26 249.837,1462.26 \n",
       "  \"/>\n",
       "<polyline clip-path=\"url(#clip1603)\" style=\"stroke:#0000ff; stroke-width:4; stroke-opacity:1; fill:none\" points=\"\n",
       "  249.837,594.596 249.837,88.4582 \n",
       "  \"/>\n",
       "<polyline clip-path=\"url(#clip1603)\" style=\"stroke:#0000ff; stroke-width:4; stroke-opacity:1; fill:none\" points=\"\n",
       "  2260.93,594.596 2260.93,88.4582 \n",
       "  \"/>\n",
       "<polyline clip-path=\"url(#clip1603)\" style=\"stroke:#0000ff; stroke-width:4; stroke-opacity:1; fill:none\" points=\"\n",
       "  2260.93,88.4582 249.837,88.4582 \n",
       "  \"/>\n",
       "<circle clip-path=\"url(#clip1603)\" style=\"fill:#000000; stroke:none; fill-opacity:1\" cx=\"249.837\" cy=\"594.596\" r=\"14\"/>\n",
       "<circle clip-path=\"url(#clip1603)\" style=\"fill:#0000ff; stroke:none; fill-opacity:1\" cx=\"249.837\" cy=\"594.596\" r=\"10\"/>\n",
       "<circle clip-path=\"url(#clip1603)\" style=\"fill:#000000; stroke:none; fill-opacity:1\" cx=\"375.53\" cy=\"594.596\" r=\"14\"/>\n",
       "<circle clip-path=\"url(#clip1603)\" style=\"fill:#0000ff; stroke:none; fill-opacity:1\" cx=\"375.53\" cy=\"594.596\" r=\"10\"/>\n",
       "<circle clip-path=\"url(#clip1603)\" style=\"fill:#000000; stroke:none; fill-opacity:1\" cx=\"501.223\" cy=\"594.596\" r=\"14\"/>\n",
       "<circle clip-path=\"url(#clip1603)\" style=\"fill:#0000ff; stroke:none; fill-opacity:1\" cx=\"501.223\" cy=\"594.596\" r=\"10\"/>\n",
       "<circle clip-path=\"url(#clip1603)\" style=\"fill:#000000; stroke:none; fill-opacity:1\" cx=\"626.916\" cy=\"594.596\" r=\"14\"/>\n",
       "<circle clip-path=\"url(#clip1603)\" style=\"fill:#0000ff; stroke:none; fill-opacity:1\" cx=\"626.916\" cy=\"594.596\" r=\"10\"/>\n",
       "<circle clip-path=\"url(#clip1603)\" style=\"fill:#000000; stroke:none; fill-opacity:1\" cx=\"752.609\" cy=\"594.596\" r=\"14\"/>\n",
       "<circle clip-path=\"url(#clip1603)\" style=\"fill:#0000ff; stroke:none; fill-opacity:1\" cx=\"752.609\" cy=\"594.596\" r=\"10\"/>\n",
       "<circle clip-path=\"url(#clip1603)\" style=\"fill:#000000; stroke:none; fill-opacity:1\" cx=\"878.303\" cy=\"594.596\" r=\"14\"/>\n",
       "<circle clip-path=\"url(#clip1603)\" style=\"fill:#0000ff; stroke:none; fill-opacity:1\" cx=\"878.303\" cy=\"594.596\" r=\"10\"/>\n",
       "<circle clip-path=\"url(#clip1603)\" style=\"fill:#000000; stroke:none; fill-opacity:1\" cx=\"1004\" cy=\"594.596\" r=\"14\"/>\n",
       "<circle clip-path=\"url(#clip1603)\" style=\"fill:#0000ff; stroke:none; fill-opacity:1\" cx=\"1004\" cy=\"594.596\" r=\"10\"/>\n",
       "<circle clip-path=\"url(#clip1603)\" style=\"fill:#000000; stroke:none; fill-opacity:1\" cx=\"1129.69\" cy=\"594.596\" r=\"14\"/>\n",
       "<circle clip-path=\"url(#clip1603)\" style=\"fill:#0000ff; stroke:none; fill-opacity:1\" cx=\"1129.69\" cy=\"594.596\" r=\"10\"/>\n",
       "<circle clip-path=\"url(#clip1603)\" style=\"fill:#000000; stroke:none; fill-opacity:1\" cx=\"1255.38\" cy=\"594.596\" r=\"14\"/>\n",
       "<circle clip-path=\"url(#clip1603)\" style=\"fill:#0000ff; stroke:none; fill-opacity:1\" cx=\"1255.38\" cy=\"594.596\" r=\"10\"/>\n",
       "<circle clip-path=\"url(#clip1603)\" style=\"fill:#000000; stroke:none; fill-opacity:1\" cx=\"1381.08\" cy=\"594.596\" r=\"14\"/>\n",
       "<circle clip-path=\"url(#clip1603)\" style=\"fill:#0000ff; stroke:none; fill-opacity:1\" cx=\"1381.08\" cy=\"594.596\" r=\"10\"/>\n",
       "<circle clip-path=\"url(#clip1603)\" style=\"fill:#000000; stroke:none; fill-opacity:1\" cx=\"1506.77\" cy=\"594.596\" r=\"14\"/>\n",
       "<circle clip-path=\"url(#clip1603)\" style=\"fill:#0000ff; stroke:none; fill-opacity:1\" cx=\"1506.77\" cy=\"594.596\" r=\"10\"/>\n",
       "<circle clip-path=\"url(#clip1603)\" style=\"fill:#000000; stroke:none; fill-opacity:1\" cx=\"1632.46\" cy=\"594.596\" r=\"14\"/>\n",
       "<circle clip-path=\"url(#clip1603)\" style=\"fill:#0000ff; stroke:none; fill-opacity:1\" cx=\"1632.46\" cy=\"594.596\" r=\"10\"/>\n",
       "<circle clip-path=\"url(#clip1603)\" style=\"fill:#000000; stroke:none; fill-opacity:1\" cx=\"1758.15\" cy=\"594.596\" r=\"14\"/>\n",
       "<circle clip-path=\"url(#clip1603)\" style=\"fill:#0000ff; stroke:none; fill-opacity:1\" cx=\"1758.15\" cy=\"594.596\" r=\"10\"/>\n",
       "<circle clip-path=\"url(#clip1603)\" style=\"fill:#000000; stroke:none; fill-opacity:1\" cx=\"1883.85\" cy=\"594.596\" r=\"14\"/>\n",
       "<circle clip-path=\"url(#clip1603)\" style=\"fill:#0000ff; stroke:none; fill-opacity:1\" cx=\"1883.85\" cy=\"594.596\" r=\"10\"/>\n",
       "<circle clip-path=\"url(#clip1603)\" style=\"fill:#000000; stroke:none; fill-opacity:1\" cx=\"2009.54\" cy=\"594.596\" r=\"14\"/>\n",
       "<circle clip-path=\"url(#clip1603)\" style=\"fill:#0000ff; stroke:none; fill-opacity:1\" cx=\"2009.54\" cy=\"594.596\" r=\"10\"/>\n",
       "<circle clip-path=\"url(#clip1603)\" style=\"fill:#000000; stroke:none; fill-opacity:1\" cx=\"2135.23\" cy=\"594.596\" r=\"14\"/>\n",
       "<circle clip-path=\"url(#clip1603)\" style=\"fill:#0000ff; stroke:none; fill-opacity:1\" cx=\"2135.23\" cy=\"594.596\" r=\"10\"/>\n",
       "<circle clip-path=\"url(#clip1603)\" style=\"fill:#000000; stroke:none; fill-opacity:1\" cx=\"2260.93\" cy=\"594.596\" r=\"14\"/>\n",
       "<circle clip-path=\"url(#clip1603)\" style=\"fill:#0000ff; stroke:none; fill-opacity:1\" cx=\"2260.93\" cy=\"594.596\" r=\"10\"/>\n",
       "<circle clip-path=\"url(#clip1603)\" style=\"fill:#000000; stroke:none; fill-opacity:1\" cx=\"249.837\" cy=\"628.223\" r=\"14\"/>\n",
       "<circle clip-path=\"url(#clip1603)\" style=\"fill:#0000ff; stroke:none; fill-opacity:1\" cx=\"249.837\" cy=\"628.223\" r=\"10\"/>\n",
       "<circle clip-path=\"url(#clip1603)\" style=\"fill:#000000; stroke:none; fill-opacity:1\" cx=\"249.837\" cy=\"670.258\" r=\"14\"/>\n",
       "<circle clip-path=\"url(#clip1603)\" style=\"fill:#0000ff; stroke:none; fill-opacity:1\" cx=\"249.837\" cy=\"670.258\" r=\"10\"/>\n",
       "<circle clip-path=\"url(#clip1603)\" style=\"fill:#000000; stroke:none; fill-opacity:1\" cx=\"249.837\" cy=\"722.8\" r=\"14\"/>\n",
       "<circle clip-path=\"url(#clip1603)\" style=\"fill:#0000ff; stroke:none; fill-opacity:1\" cx=\"249.837\" cy=\"722.8\" r=\"10\"/>\n",
       "<circle clip-path=\"url(#clip1603)\" style=\"fill:#000000; stroke:none; fill-opacity:1\" cx=\"249.837\" cy=\"788.479\" r=\"14\"/>\n",
       "<circle clip-path=\"url(#clip1603)\" style=\"fill:#0000ff; stroke:none; fill-opacity:1\" cx=\"249.837\" cy=\"788.479\" r=\"10\"/>\n",
       "<circle clip-path=\"url(#clip1603)\" style=\"fill:#000000; stroke:none; fill-opacity:1\" cx=\"249.837\" cy=\"870.577\" r=\"14\"/>\n",
       "<circle clip-path=\"url(#clip1603)\" style=\"fill:#0000ff; stroke:none; fill-opacity:1\" cx=\"249.837\" cy=\"870.577\" r=\"10\"/>\n",
       "<circle clip-path=\"url(#clip1603)\" style=\"fill:#000000; stroke:none; fill-opacity:1\" cx=\"249.837\" cy=\"973.2\" r=\"14\"/>\n",
       "<circle clip-path=\"url(#clip1603)\" style=\"fill:#0000ff; stroke:none; fill-opacity:1\" cx=\"249.837\" cy=\"973.2\" r=\"10\"/>\n",
       "<circle clip-path=\"url(#clip1603)\" style=\"fill:#000000; stroke:none; fill-opacity:1\" cx=\"249.837\" cy=\"1101.48\" r=\"14\"/>\n",
       "<circle clip-path=\"url(#clip1603)\" style=\"fill:#0000ff; stroke:none; fill-opacity:1\" cx=\"249.837\" cy=\"1101.48\" r=\"10\"/>\n",
       "<circle clip-path=\"url(#clip1603)\" style=\"fill:#000000; stroke:none; fill-opacity:1\" cx=\"249.837\" cy=\"1261.83\" r=\"14\"/>\n",
       "<circle clip-path=\"url(#clip1603)\" style=\"fill:#0000ff; stroke:none; fill-opacity:1\" cx=\"249.837\" cy=\"1261.83\" r=\"10\"/>\n",
       "<circle clip-path=\"url(#clip1603)\" style=\"fill:#000000; stroke:none; fill-opacity:1\" cx=\"249.837\" cy=\"1462.26\" r=\"14\"/>\n",
       "<circle clip-path=\"url(#clip1603)\" style=\"fill:#0000ff; stroke:none; fill-opacity:1\" cx=\"249.837\" cy=\"1462.26\" r=\"10\"/>\n",
       "<circle clip-path=\"url(#clip1603)\" style=\"fill:#000000; stroke:none; fill-opacity:1\" cx=\"2260.93\" cy=\"628.223\" r=\"14\"/>\n",
       "<circle clip-path=\"url(#clip1603)\" style=\"fill:#0000ff; stroke:none; fill-opacity:1\" cx=\"2260.93\" cy=\"628.223\" r=\"10\"/>\n",
       "<circle clip-path=\"url(#clip1603)\" style=\"fill:#000000; stroke:none; fill-opacity:1\" cx=\"2260.93\" cy=\"670.258\" r=\"14\"/>\n",
       "<circle clip-path=\"url(#clip1603)\" style=\"fill:#0000ff; stroke:none; fill-opacity:1\" cx=\"2260.93\" cy=\"670.258\" r=\"10\"/>\n",
       "<circle clip-path=\"url(#clip1603)\" style=\"fill:#000000; stroke:none; fill-opacity:1\" cx=\"2260.93\" cy=\"722.8\" r=\"14\"/>\n",
       "<circle clip-path=\"url(#clip1603)\" style=\"fill:#0000ff; stroke:none; fill-opacity:1\" cx=\"2260.93\" cy=\"722.8\" r=\"10\"/>\n",
       "<circle clip-path=\"url(#clip1603)\" style=\"fill:#000000; stroke:none; fill-opacity:1\" cx=\"2260.93\" cy=\"788.479\" r=\"14\"/>\n",
       "<circle clip-path=\"url(#clip1603)\" style=\"fill:#0000ff; stroke:none; fill-opacity:1\" cx=\"2260.93\" cy=\"788.479\" r=\"10\"/>\n",
       "<circle clip-path=\"url(#clip1603)\" style=\"fill:#000000; stroke:none; fill-opacity:1\" cx=\"2260.93\" cy=\"870.577\" r=\"14\"/>\n",
       "<circle clip-path=\"url(#clip1603)\" style=\"fill:#0000ff; stroke:none; fill-opacity:1\" cx=\"2260.93\" cy=\"870.577\" r=\"10\"/>\n",
       "<circle clip-path=\"url(#clip1603)\" style=\"fill:#000000; stroke:none; fill-opacity:1\" cx=\"2260.93\" cy=\"973.2\" r=\"14\"/>\n",
       "<circle clip-path=\"url(#clip1603)\" style=\"fill:#0000ff; stroke:none; fill-opacity:1\" cx=\"2260.93\" cy=\"973.2\" r=\"10\"/>\n",
       "<circle clip-path=\"url(#clip1603)\" style=\"fill:#000000; stroke:none; fill-opacity:1\" cx=\"2260.93\" cy=\"1101.48\" r=\"14\"/>\n",
       "<circle clip-path=\"url(#clip1603)\" style=\"fill:#0000ff; stroke:none; fill-opacity:1\" cx=\"2260.93\" cy=\"1101.48\" r=\"10\"/>\n",
       "<circle clip-path=\"url(#clip1603)\" style=\"fill:#000000; stroke:none; fill-opacity:1\" cx=\"2260.93\" cy=\"1261.83\" r=\"14\"/>\n",
       "<circle clip-path=\"url(#clip1603)\" style=\"fill:#0000ff; stroke:none; fill-opacity:1\" cx=\"2260.93\" cy=\"1261.83\" r=\"10\"/>\n",
       "<circle clip-path=\"url(#clip1603)\" style=\"fill:#000000; stroke:none; fill-opacity:1\" cx=\"2260.93\" cy=\"1462.26\" r=\"14\"/>\n",
       "<circle clip-path=\"url(#clip1603)\" style=\"fill:#0000ff; stroke:none; fill-opacity:1\" cx=\"2260.93\" cy=\"1462.26\" r=\"10\"/>\n",
       "<circle clip-path=\"url(#clip1603)\" style=\"fill:#000000; stroke:none; fill-opacity:1\" cx=\"2135.23\" cy=\"1462.26\" r=\"14\"/>\n",
       "<circle clip-path=\"url(#clip1603)\" style=\"fill:#0000ff; stroke:none; fill-opacity:1\" cx=\"2135.23\" cy=\"1462.26\" r=\"10\"/>\n",
       "<circle clip-path=\"url(#clip1603)\" style=\"fill:#000000; stroke:none; fill-opacity:1\" cx=\"2009.54\" cy=\"1462.26\" r=\"14\"/>\n",
       "<circle clip-path=\"url(#clip1603)\" style=\"fill:#0000ff; stroke:none; fill-opacity:1\" cx=\"2009.54\" cy=\"1462.26\" r=\"10\"/>\n",
       "<circle clip-path=\"url(#clip1603)\" style=\"fill:#000000; stroke:none; fill-opacity:1\" cx=\"1883.85\" cy=\"1462.26\" r=\"14\"/>\n",
       "<circle clip-path=\"url(#clip1603)\" style=\"fill:#0000ff; stroke:none; fill-opacity:1\" cx=\"1883.85\" cy=\"1462.26\" r=\"10\"/>\n",
       "<circle clip-path=\"url(#clip1603)\" style=\"fill:#000000; stroke:none; fill-opacity:1\" cx=\"1758.15\" cy=\"1462.26\" r=\"14\"/>\n",
       "<circle clip-path=\"url(#clip1603)\" style=\"fill:#0000ff; stroke:none; fill-opacity:1\" cx=\"1758.15\" cy=\"1462.26\" r=\"10\"/>\n",
       "<circle clip-path=\"url(#clip1603)\" style=\"fill:#000000; stroke:none; fill-opacity:1\" cx=\"1632.46\" cy=\"1462.26\" r=\"14\"/>\n",
       "<circle clip-path=\"url(#clip1603)\" style=\"fill:#0000ff; stroke:none; fill-opacity:1\" cx=\"1632.46\" cy=\"1462.26\" r=\"10\"/>\n",
       "<circle clip-path=\"url(#clip1603)\" style=\"fill:#000000; stroke:none; fill-opacity:1\" cx=\"1506.77\" cy=\"1462.26\" r=\"14\"/>\n",
       "<circle clip-path=\"url(#clip1603)\" style=\"fill:#0000ff; stroke:none; fill-opacity:1\" cx=\"1506.77\" cy=\"1462.26\" r=\"10\"/>\n",
       "<circle clip-path=\"url(#clip1603)\" style=\"fill:#000000; stroke:none; fill-opacity:1\" cx=\"1381.08\" cy=\"1462.26\" r=\"14\"/>\n",
       "<circle clip-path=\"url(#clip1603)\" style=\"fill:#0000ff; stroke:none; fill-opacity:1\" cx=\"1381.08\" cy=\"1462.26\" r=\"10\"/>\n",
       "<circle clip-path=\"url(#clip1603)\" style=\"fill:#000000; stroke:none; fill-opacity:1\" cx=\"1255.38\" cy=\"1462.26\" r=\"14\"/>\n",
       "<circle clip-path=\"url(#clip1603)\" style=\"fill:#0000ff; stroke:none; fill-opacity:1\" cx=\"1255.38\" cy=\"1462.26\" r=\"10\"/>\n",
       "<circle clip-path=\"url(#clip1603)\" style=\"fill:#000000; stroke:none; fill-opacity:1\" cx=\"1129.69\" cy=\"1462.26\" r=\"14\"/>\n",
       "<circle clip-path=\"url(#clip1603)\" style=\"fill:#0000ff; stroke:none; fill-opacity:1\" cx=\"1129.69\" cy=\"1462.26\" r=\"10\"/>\n",
       "<circle clip-path=\"url(#clip1603)\" style=\"fill:#000000; stroke:none; fill-opacity:1\" cx=\"1004\" cy=\"1462.26\" r=\"14\"/>\n",
       "<circle clip-path=\"url(#clip1603)\" style=\"fill:#0000ff; stroke:none; fill-opacity:1\" cx=\"1004\" cy=\"1462.26\" r=\"10\"/>\n",
       "<circle clip-path=\"url(#clip1603)\" style=\"fill:#000000; stroke:none; fill-opacity:1\" cx=\"878.303\" cy=\"1462.26\" r=\"14\"/>\n",
       "<circle clip-path=\"url(#clip1603)\" style=\"fill:#0000ff; stroke:none; fill-opacity:1\" cx=\"878.303\" cy=\"1462.26\" r=\"10\"/>\n",
       "<circle clip-path=\"url(#clip1603)\" style=\"fill:#000000; stroke:none; fill-opacity:1\" cx=\"752.609\" cy=\"1462.26\" r=\"14\"/>\n",
       "<circle clip-path=\"url(#clip1603)\" style=\"fill:#0000ff; stroke:none; fill-opacity:1\" cx=\"752.609\" cy=\"1462.26\" r=\"10\"/>\n",
       "<circle clip-path=\"url(#clip1603)\" style=\"fill:#000000; stroke:none; fill-opacity:1\" cx=\"626.916\" cy=\"1462.26\" r=\"14\"/>\n",
       "<circle clip-path=\"url(#clip1603)\" style=\"fill:#0000ff; stroke:none; fill-opacity:1\" cx=\"626.916\" cy=\"1462.26\" r=\"10\"/>\n",
       "<circle clip-path=\"url(#clip1603)\" style=\"fill:#000000; stroke:none; fill-opacity:1\" cx=\"501.223\" cy=\"1462.26\" r=\"14\"/>\n",
       "<circle clip-path=\"url(#clip1603)\" style=\"fill:#0000ff; stroke:none; fill-opacity:1\" cx=\"501.223\" cy=\"1462.26\" r=\"10\"/>\n",
       "<circle clip-path=\"url(#clip1603)\" style=\"fill:#000000; stroke:none; fill-opacity:1\" cx=\"375.53\" cy=\"1462.26\" r=\"14\"/>\n",
       "<circle clip-path=\"url(#clip1603)\" style=\"fill:#0000ff; stroke:none; fill-opacity:1\" cx=\"375.53\" cy=\"1462.26\" r=\"10\"/>\n",
       "<circle clip-path=\"url(#clip1603)\" style=\"fill:#000000; stroke:none; fill-opacity:1\" cx=\"249.837\" cy=\"522.291\" r=\"14\"/>\n",
       "<circle clip-path=\"url(#clip1603)\" style=\"fill:#0000ff; stroke:none; fill-opacity:1\" cx=\"249.837\" cy=\"522.291\" r=\"10\"/>\n",
       "<circle clip-path=\"url(#clip1603)\" style=\"fill:#000000; stroke:none; fill-opacity:1\" cx=\"249.837\" cy=\"377.68\" r=\"14\"/>\n",
       "<circle clip-path=\"url(#clip1603)\" style=\"fill:#0000ff; stroke:none; fill-opacity:1\" cx=\"249.837\" cy=\"377.68\" r=\"10\"/>\n",
       "<circle clip-path=\"url(#clip1603)\" style=\"fill:#000000; stroke:none; fill-opacity:1\" cx=\"249.837\" cy=\"88.4582\" r=\"14\"/>\n",
       "<circle clip-path=\"url(#clip1603)\" style=\"fill:#0000ff; stroke:none; fill-opacity:1\" cx=\"249.837\" cy=\"88.4582\" r=\"10\"/>\n",
       "<circle clip-path=\"url(#clip1603)\" style=\"fill:#000000; stroke:none; fill-opacity:1\" cx=\"2260.93\" cy=\"522.291\" r=\"14\"/>\n",
       "<circle clip-path=\"url(#clip1603)\" style=\"fill:#0000ff; stroke:none; fill-opacity:1\" cx=\"2260.93\" cy=\"522.291\" r=\"10\"/>\n",
       "<circle clip-path=\"url(#clip1603)\" style=\"fill:#000000; stroke:none; fill-opacity:1\" cx=\"2260.93\" cy=\"377.68\" r=\"14\"/>\n",
       "<circle clip-path=\"url(#clip1603)\" style=\"fill:#0000ff; stroke:none; fill-opacity:1\" cx=\"2260.93\" cy=\"377.68\" r=\"10\"/>\n",
       "<circle clip-path=\"url(#clip1603)\" style=\"fill:#000000; stroke:none; fill-opacity:1\" cx=\"2260.93\" cy=\"88.4582\" r=\"14\"/>\n",
       "<circle clip-path=\"url(#clip1603)\" style=\"fill:#0000ff; stroke:none; fill-opacity:1\" cx=\"2260.93\" cy=\"88.4582\" r=\"10\"/>\n",
       "<circle clip-path=\"url(#clip1603)\" style=\"fill:#000000; stroke:none; fill-opacity:1\" cx=\"1255.38\" cy=\"88.4582\" r=\"14\"/>\n",
       "<circle clip-path=\"url(#clip1603)\" style=\"fill:#0000ff; stroke:none; fill-opacity:1\" cx=\"1255.38\" cy=\"88.4582\" r=\"10\"/>\n",
       "</svg>\n"
      ]
     },
     "execution_count": 4,
     "metadata": {},
     "output_type": "execute_result"
    }
   ],
   "source": [
    "show(meshdef, hideVertices=true)"
   ]
  },
  {
   "cell_type": "code",
   "execution_count": 8,
   "metadata": {},
   "outputs": [
    {
     "name": "stdout",
     "output_type": "stream",
     "text": [
      "falsefalse\n",
      "equal\n",
      "truefalse\n",
      "44\n",
      "truefalse\n",
      "44\n",
      "truetrue\n",
      "equal\n"
     ]
    },
    {
     "data": {
      "image/svg+xml": [
       "<?xml version=\"1.0\" encoding=\"utf-8\"?>\n",
       "<svg xmlns=\"http://www.w3.org/2000/svg\" xmlns:xlink=\"http://www.w3.org/1999/xlink\" width=\"600\" height=\"400\" viewBox=\"0 0 2400 1600\">\n",
       "<defs>\n",
       "  <clipPath id=\"clip2000\">\n",
       "    <rect x=\"0\" y=\"0\" width=\"2000\" height=\"2000\"/>\n",
       "  </clipPath>\n",
       "</defs>\n",
       "<defs>\n",
       "  <clipPath id=\"clip2001\">\n",
       "    <rect x=\"0\" y=\"0\" width=\"2400\" height=\"1600\"/>\n",
       "  </clipPath>\n",
       "</defs>\n",
       "<polygon clip-path=\"url(#clip2001)\" points=\"\n",
       "0,1600 2400,1600 2400,0 0,0 \n",
       "  \" fill=\"#ffffff\" fill-rule=\"evenodd\" fill-opacity=\"1\"/>\n",
       "<defs>\n",
       "  <clipPath id=\"clip2002\">\n",
       "    <rect x=\"480\" y=\"0\" width=\"1681\" height=\"1600\"/>\n",
       "  </clipPath>\n",
       "</defs>\n",
       "<polygon clip-path=\"url(#clip2001)\" points=\"\n",
       "161.394,1503.47 2321.26,1503.47 2321.26,47.2441 161.394,47.2441 \n",
       "  \" fill=\"#ffffff\" fill-rule=\"evenodd\" fill-opacity=\"1\"/>\n",
       "<defs>\n",
       "  <clipPath id=\"clip2003\">\n",
       "    <rect x=\"161\" y=\"47\" width=\"2161\" height=\"1457\"/>\n",
       "  </clipPath>\n",
       "</defs>\n",
       "<polyline clip-path=\"url(#clip2003)\" style=\"stroke:#000000; stroke-width:2; stroke-opacity:0.1; fill:none\" points=\"\n",
       "  222.522,1503.47 222.522,47.2441 \n",
       "  \"/>\n",
       "<polyline clip-path=\"url(#clip2003)\" style=\"stroke:#000000; stroke-width:2; stroke-opacity:0.1; fill:none\" points=\"\n",
       "  731.925,1503.47 731.925,47.2441 \n",
       "  \"/>\n",
       "<polyline clip-path=\"url(#clip2003)\" style=\"stroke:#000000; stroke-width:2; stroke-opacity:0.1; fill:none\" points=\"\n",
       "  1241.33,1503.47 1241.33,47.2441 \n",
       "  \"/>\n",
       "<polyline clip-path=\"url(#clip2003)\" style=\"stroke:#000000; stroke-width:2; stroke-opacity:0.1; fill:none\" points=\"\n",
       "  1750.73,1503.47 1750.73,47.2441 \n",
       "  \"/>\n",
       "<polyline clip-path=\"url(#clip2003)\" style=\"stroke:#000000; stroke-width:2; stroke-opacity:0.1; fill:none\" points=\"\n",
       "  2260.13,1503.47 2260.13,47.2441 \n",
       "  \"/>\n",
       "<polyline clip-path=\"url(#clip2003)\" style=\"stroke:#000000; stroke-width:2; stroke-opacity:0.1; fill:none\" points=\"\n",
       "  161.394,1462.26 2321.26,1462.26 \n",
       "  \"/>\n",
       "<polyline clip-path=\"url(#clip2003)\" style=\"stroke:#000000; stroke-width:2; stroke-opacity:0.1; fill:none\" points=\"\n",
       "  161.394,1004.33 2321.26,1004.33 \n",
       "  \"/>\n",
       "<polyline clip-path=\"url(#clip2003)\" style=\"stroke:#000000; stroke-width:2; stroke-opacity:0.1; fill:none\" points=\"\n",
       "  161.394,546.392 2321.26,546.392 \n",
       "  \"/>\n",
       "<polyline clip-path=\"url(#clip2003)\" style=\"stroke:#000000; stroke-width:2; stroke-opacity:0.1; fill:none\" points=\"\n",
       "  161.394,88.4582 2321.26,88.4582 \n",
       "  \"/>\n",
       "<polyline clip-path=\"url(#clip2001)\" style=\"stroke:#000000; stroke-width:4; stroke-opacity:1; fill:none\" points=\"\n",
       "  161.394,1503.47 2321.26,1503.47 \n",
       "  \"/>\n",
       "<polyline clip-path=\"url(#clip2001)\" style=\"stroke:#000000; stroke-width:4; stroke-opacity:1; fill:none\" points=\"\n",
       "  161.394,1503.47 161.394,47.2441 \n",
       "  \"/>\n",
       "<polyline clip-path=\"url(#clip2001)\" style=\"stroke:#000000; stroke-width:4; stroke-opacity:1; fill:none\" points=\"\n",
       "  222.522,1503.47 222.522,1481.63 \n",
       "  \"/>\n",
       "<polyline clip-path=\"url(#clip2001)\" style=\"stroke:#000000; stroke-width:4; stroke-opacity:1; fill:none\" points=\"\n",
       "  731.925,1503.47 731.925,1481.63 \n",
       "  \"/>\n",
       "<polyline clip-path=\"url(#clip2001)\" style=\"stroke:#000000; stroke-width:4; stroke-opacity:1; fill:none\" points=\"\n",
       "  1241.33,1503.47 1241.33,1481.63 \n",
       "  \"/>\n",
       "<polyline clip-path=\"url(#clip2001)\" style=\"stroke:#000000; stroke-width:4; stroke-opacity:1; fill:none\" points=\"\n",
       "  1750.73,1503.47 1750.73,1481.63 \n",
       "  \"/>\n",
       "<polyline clip-path=\"url(#clip2001)\" style=\"stroke:#000000; stroke-width:4; stroke-opacity:1; fill:none\" points=\"\n",
       "  2260.13,1503.47 2260.13,1481.63 \n",
       "  \"/>\n",
       "<polyline clip-path=\"url(#clip2001)\" style=\"stroke:#000000; stroke-width:4; stroke-opacity:1; fill:none\" points=\"\n",
       "  161.394,1462.26 193.792,1462.26 \n",
       "  \"/>\n",
       "<polyline clip-path=\"url(#clip2001)\" style=\"stroke:#000000; stroke-width:4; stroke-opacity:1; fill:none\" points=\"\n",
       "  161.394,1004.33 193.792,1004.33 \n",
       "  \"/>\n",
       "<polyline clip-path=\"url(#clip2001)\" style=\"stroke:#000000; stroke-width:4; stroke-opacity:1; fill:none\" points=\"\n",
       "  161.394,546.392 193.792,546.392 \n",
       "  \"/>\n",
       "<polyline clip-path=\"url(#clip2001)\" style=\"stroke:#000000; stroke-width:4; stroke-opacity:1; fill:none\" points=\"\n",
       "  161.394,88.4582 193.792,88.4582 \n",
       "  \"/>\n",
       "<g clip-path=\"url(#clip2001)\">\n",
       "<text style=\"fill:#000000; fill-opacity:1; font-family:Arial,Helvetica Neue,Helvetica,sans-serif; font-size:48px; text-anchor:middle;\" transform=\"rotate(0, 222.522, 1557.47)\" x=\"222.522\" y=\"1557.47\">0.00</text>\n",
       "</g>\n",
       "<g clip-path=\"url(#clip2001)\">\n",
       "<text style=\"fill:#000000; fill-opacity:1; font-family:Arial,Helvetica Neue,Helvetica,sans-serif; font-size:48px; text-anchor:middle;\" transform=\"rotate(0, 731.925, 1557.47)\" x=\"731.925\" y=\"1557.47\">0.25</text>\n",
       "</g>\n",
       "<g clip-path=\"url(#clip2001)\">\n",
       "<text style=\"fill:#000000; fill-opacity:1; font-family:Arial,Helvetica Neue,Helvetica,sans-serif; font-size:48px; text-anchor:middle;\" transform=\"rotate(0, 1241.33, 1557.47)\" x=\"1241.33\" y=\"1557.47\">0.50</text>\n",
       "</g>\n",
       "<g clip-path=\"url(#clip2001)\">\n",
       "<text style=\"fill:#000000; fill-opacity:1; font-family:Arial,Helvetica Neue,Helvetica,sans-serif; font-size:48px; text-anchor:middle;\" transform=\"rotate(0, 1750.73, 1557.47)\" x=\"1750.73\" y=\"1557.47\">0.75</text>\n",
       "</g>\n",
       "<g clip-path=\"url(#clip2001)\">\n",
       "<text style=\"fill:#000000; fill-opacity:1; font-family:Arial,Helvetica Neue,Helvetica,sans-serif; font-size:48px; text-anchor:middle;\" transform=\"rotate(0, 2260.13, 1557.47)\" x=\"2260.13\" y=\"1557.47\">1.00</text>\n",
       "</g>\n",
       "<g clip-path=\"url(#clip2001)\">\n",
       "<text style=\"fill:#000000; fill-opacity:1; font-family:Arial,Helvetica Neue,Helvetica,sans-serif; font-size:48px; text-anchor:end;\" transform=\"rotate(0, 137.394, 1479.76)\" x=\"137.394\" y=\"1479.76\">0.0</text>\n",
       "</g>\n",
       "<g clip-path=\"url(#clip2001)\">\n",
       "<text style=\"fill:#000000; fill-opacity:1; font-family:Arial,Helvetica Neue,Helvetica,sans-serif; font-size:48px; text-anchor:end;\" transform=\"rotate(0, 137.394, 1021.83)\" x=\"137.394\" y=\"1021.83\">0.5</text>\n",
       "</g>\n",
       "<g clip-path=\"url(#clip2001)\">\n",
       "<text style=\"fill:#000000; fill-opacity:1; font-family:Arial,Helvetica Neue,Helvetica,sans-serif; font-size:48px; text-anchor:end;\" transform=\"rotate(0, 137.394, 563.892)\" x=\"137.394\" y=\"563.892\">1.0</text>\n",
       "</g>\n",
       "<g clip-path=\"url(#clip2001)\">\n",
       "<text style=\"fill:#000000; fill-opacity:1; font-family:Arial,Helvetica Neue,Helvetica,sans-serif; font-size:48px; text-anchor:end;\" transform=\"rotate(0, 137.394, 105.958)\" x=\"137.394\" y=\"105.958\">1.5</text>\n",
       "</g>\n",
       "<polyline clip-path=\"url(#clip2003)\" style=\"stroke:#0000ff; stroke-width:4; stroke-opacity:1; fill:none\" points=\"\n",
       "  222.522,1462.26 2260.13,1462.26 \n",
       "  \"/>\n",
       "<polyline clip-path=\"url(#clip2003)\" style=\"stroke:#0000ff; stroke-width:4; stroke-opacity:1; fill:none\" points=\"\n",
       "  222.522,1462.26 222.522,88.4582 \n",
       "  \"/>\n",
       "<polyline clip-path=\"url(#clip2003)\" style=\"stroke:#0000ff; stroke-width:4; stroke-opacity:1; fill:none\" points=\"\n",
       "  2260.13,1462.26 2260.13,88.4582 \n",
       "  \"/>\n",
       "<polyline clip-path=\"url(#clip2003)\" style=\"stroke:#0000ff; stroke-width:4; stroke-opacity:1; fill:none\" points=\"\n",
       "  2260.13,88.4582 222.522,88.4582 \n",
       "  \"/>\n",
       "<circle clip-path=\"url(#clip2003)\" style=\"fill:#000000; stroke:none; fill-opacity:1\" cx=\"222.522\" cy=\"1462.26\" r=\"14\"/>\n",
       "<circle clip-path=\"url(#clip2003)\" style=\"fill:#0000ff; stroke:none; fill-opacity:1\" cx=\"222.522\" cy=\"1462.26\" r=\"10\"/>\n",
       "<circle clip-path=\"url(#clip2003)\" style=\"fill:#000000; stroke:none; fill-opacity:1\" cx=\"1241.33\" cy=\"1462.26\" r=\"14\"/>\n",
       "<circle clip-path=\"url(#clip2003)\" style=\"fill:#0000ff; stroke:none; fill-opacity:1\" cx=\"1241.33\" cy=\"1462.26\" r=\"10\"/>\n",
       "<circle clip-path=\"url(#clip2003)\" style=\"fill:#000000; stroke:none; fill-opacity:1\" cx=\"2260.13\" cy=\"1462.26\" r=\"14\"/>\n",
       "<circle clip-path=\"url(#clip2003)\" style=\"fill:#0000ff; stroke:none; fill-opacity:1\" cx=\"2260.13\" cy=\"1462.26\" r=\"10\"/>\n",
       "<circle clip-path=\"url(#clip2003)\" style=\"fill:#000000; stroke:none; fill-opacity:1\" cx=\"222.522\" cy=\"1223.99\" r=\"14\"/>\n",
       "<circle clip-path=\"url(#clip2003)\" style=\"fill:#0000ff; stroke:none; fill-opacity:1\" cx=\"222.522\" cy=\"1223.99\" r=\"10\"/>\n",
       "<circle clip-path=\"url(#clip2003)\" style=\"fill:#000000; stroke:none; fill-opacity:1\" cx=\"222.522\" cy=\"926.143\" r=\"14\"/>\n",
       "<circle clip-path=\"url(#clip2003)\" style=\"fill:#0000ff; stroke:none; fill-opacity:1\" cx=\"222.522\" cy=\"926.143\" r=\"10\"/>\n",
       "<circle clip-path=\"url(#clip2003)\" style=\"fill:#000000; stroke:none; fill-opacity:1\" cx=\"222.522\" cy=\"553.838\" r=\"14\"/>\n",
       "<circle clip-path=\"url(#clip2003)\" style=\"fill:#0000ff; stroke:none; fill-opacity:1\" cx=\"222.522\" cy=\"553.838\" r=\"10\"/>\n",
       "<circle clip-path=\"url(#clip2003)\" style=\"fill:#000000; stroke:none; fill-opacity:1\" cx=\"222.522\" cy=\"88.4582\" r=\"14\"/>\n",
       "<circle clip-path=\"url(#clip2003)\" style=\"fill:#0000ff; stroke:none; fill-opacity:1\" cx=\"222.522\" cy=\"88.4582\" r=\"10\"/>\n",
       "<circle clip-path=\"url(#clip2003)\" style=\"fill:#000000; stroke:none; fill-opacity:1\" cx=\"2260.13\" cy=\"1223.99\" r=\"14\"/>\n",
       "<circle clip-path=\"url(#clip2003)\" style=\"fill:#0000ff; stroke:none; fill-opacity:1\" cx=\"2260.13\" cy=\"1223.99\" r=\"10\"/>\n",
       "<circle clip-path=\"url(#clip2003)\" style=\"fill:#000000; stroke:none; fill-opacity:1\" cx=\"2260.13\" cy=\"926.143\" r=\"14\"/>\n",
       "<circle clip-path=\"url(#clip2003)\" style=\"fill:#0000ff; stroke:none; fill-opacity:1\" cx=\"2260.13\" cy=\"926.143\" r=\"10\"/>\n",
       "<circle clip-path=\"url(#clip2003)\" style=\"fill:#000000; stroke:none; fill-opacity:1\" cx=\"2260.13\" cy=\"553.838\" r=\"14\"/>\n",
       "<circle clip-path=\"url(#clip2003)\" style=\"fill:#0000ff; stroke:none; fill-opacity:1\" cx=\"2260.13\" cy=\"553.838\" r=\"10\"/>\n",
       "<circle clip-path=\"url(#clip2003)\" style=\"fill:#000000; stroke:none; fill-opacity:1\" cx=\"2260.13\" cy=\"88.4582\" r=\"14\"/>\n",
       "<circle clip-path=\"url(#clip2003)\" style=\"fill:#0000ff; stroke:none; fill-opacity:1\" cx=\"2260.13\" cy=\"88.4582\" r=\"10\"/>\n",
       "<circle clip-path=\"url(#clip2003)\" style=\"fill:#000000; stroke:none; fill-opacity:1\" cx=\"1241.33\" cy=\"88.4582\" r=\"14\"/>\n",
       "<circle clip-path=\"url(#clip2003)\" style=\"fill:#0000ff; stroke:none; fill-opacity:1\" cx=\"1241.33\" cy=\"88.4582\" r=\"10\"/>\n",
       "</svg>\n"
      ]
     },
     "execution_count": 8,
     "metadata": {},
     "output_type": "execute_result"
    }
   ],
   "source": [
    "meshdef = StructuredMeshing.emptyMeshDef()\n",
    "\n",
    "vert = StructuredMeshing.addVertice(meshdef, [0.0, 0.0])\n",
    "\n",
    "boundlink = StructuredMeshing.extrude(meshdef, vert, [1.0, 0.0, ], 1.0, 3, 1.0)\n",
    "\n",
    "StructuredMeshing.extrude(meshdef, boundlink, [0.0, 1.0], 1.5, 5, 0.8)\n",
    "\n",
    "meshdef\n",
    "\n",
    "show(meshdef, hideVertices=true)"
   ]
  },
  {
   "cell_type": "code",
   "execution_count": 9,
   "metadata": {},
   "outputs": [
    {
     "name": "stdout",
     "output_type": "stream",
     "text": [
      "falsefalse\n",
      "equal\n",
      "truefalse\n",
      "44\n",
      "truefalse\n",
      "44\n",
      "truetrue\n",
      "equal\n"
     ]
    },
    {
     "data": {
      "text/plain": [
       "Main.StructuredMeshing.Mesh(Array{Float64,1}[[0.0, 0.0], [0.5, 0.0], [1.0, 0.0], [0.0, 0.260163], [0.0, 0.585366], [0.0, 0.99187], [0.0, 1.5], [1.0, 0.260163], [1.0, 0.585366], [1.0, 0.99187], [1.0, 1.5], [0.5, 1.5]], Array{Int64,1}[])"
      ]
     },
     "execution_count": 9,
     "metadata": {},
     "output_type": "execute_result"
    }
   ],
   "source": [
    "mesh = StructuredMeshing.emptyMesh()\n",
    "StructuredMeshing.meshBoundaries!(mesh, meshdef)\n",
    "mesh"
   ]
  },
  {
   "cell_type": "code",
   "execution_count": 11,
   "metadata": {},
   "outputs": [
    {
     "name": "stdout",
     "output_type": "stream",
     "text": [
      "falsefalse\n",
      "equal\n",
      "truefalse\n",
      "44\n",
      "truefalse\n",
      "44\n",
      "truetrue\n",
      "equal\n"
     ]
    },
    {
     "ename": "BoundsError",
     "evalue": "BoundsError: attempt to access 4-element Array{Main.StructuredMeshing.Boundary,1} at index [[1, 2, 4, -3]]",
     "output_type": "error",
     "traceback": [
      "BoundsError: attempt to access 4-element Array{Main.StructuredMeshing.Boundary,1} at index [[1, 2, 4, -3]]",
      "",
      "Stacktrace:",
      " [1] throw_boundserror(::Array{Main.StructuredMeshing.Boundary,1}, ::Tuple{Array{Int64,1}}) at ./abstractarray.jl:484",
      " [2] checkbounds at ./abstractarray.jl:449 [inlined]",
      " [3] _getindex at ./multidimensional.jl:596 [inlined]",
      " [4] getindex(::Array{Main.StructuredMeshing.Boundary,1}, ::Array{Int64,1}) at ./abstractarray.jl:905",
      " [5] generateTransfiniteBlock!(::Main.StructuredMeshing.Mesh, ::Dict{Symbol,Any}, ::Array{Main.StructuredMeshing.Boundary,1}, ::Dict{Symbol,Dict{Int64,V} where V}) at /home/hahn/Programmieren/StructuredMeshing.jl/src/generate.jl:148",
      " [6] generateBlock!(::Main.StructuredMeshing.Mesh, ::Dict{Symbol,Any}, ::Array{Main.StructuredMeshing.Boundary,1}, ::Dict{Symbol,Dict{Int64,V} where V}) at /home/hahn/Programmieren/StructuredMeshing.jl/src/generate.jl:137",
      " [7] mesh(::Main.StructuredMeshing.MeshDef) at /home/hahn/Programmieren/StructuredMeshing.jl/src/generate.jl:111",
      " [8] top-level scope at In[11]:1"
     ]
    }
   ],
   "source": [
    "mesh = StructuredMeshing.mesh(meshdef)\n",
    "StructuredMeshing.show(mesh)"
   ]
  },
  {
   "cell_type": "code",
   "execution_count": 9,
   "metadata": {},
   "outputs": [
    {
     "data": {
      "text/plain": [
       "Main.StructuredMeshing.MeshDef(Dict{Symbol,Any}[Dict(:type=>:transfinite,:bounds=>[1, 2, 4, -3])], Main.StructuredMeshing.Boundary[Boundary(:straight, 1, 2, 5, -1.0), Boundary(:straight, 1, 3, 10, -0.5), Boundary(:straight, 2, 4, 10, -0.5), Boundary(:straight, 4, 3, 5, 1.0)], Array{Float64,1}[[0.0, 0.0], [1.0, 0.0], [0.0, 1.5], [1.0, 1.5]])"
      ]
     },
     "execution_count": 9,
     "metadata": {},
     "output_type": "execute_result"
    }
   ],
   "source": [
    "meshdef"
   ]
  },
  {
   "cell_type": "code",
   "execution_count": 43,
   "metadata": {},
   "outputs": [
    {
     "data": {
      "text/plain": [
       "Main.StructuredMeshing.Mesh(Array{Float64,1}[[0.0, 0.0], [0.25, 0.0], [0.5, 0.0], [0.75, 0.0], [1.0, 0.0], [0.0, 0.00439883], [0.0, 0.0102639], [0.0, 0.0219941], [0.0, 0.0454545], [0.0, 0.0923754]  …  [1.0, 0.0219941], [1.0, 0.0454545], [1.0, 0.0923754], [1.0, 0.186217], [1.0, 0.3739], [1.0, 0.749267], [1.0, 1.5], [0.75, 1.5], [0.5, 1.5], [0.25, 1.5]], Array{Int64,1}[])"
      ]
     },
     "execution_count": 43,
     "metadata": {},
     "output_type": "execute_result"
    }
   ],
   "source": [
    "mesh = StructuredMeshing.emptyMesh()\n",
    "StructuredMeshing.generateBoundaryMesh!(mesh, meshdef)\n",
    "mesh"
   ]
  },
  {
   "cell_type": "code",
   "execution_count": 10,
   "metadata": {},
   "outputs": [
    {
     "ename": "UndefVarError",
     "evalue": "UndefVarError: emptyMeshDef not defined",
     "output_type": "error",
     "traceback": [
      "UndefVarError: emptyMeshDef not defined",
      "",
      "Stacktrace:",
      " [1] top-level scope at In[10]:1"
     ]
    }
   ],
   "source": [
    "meshdef = emptyMeshDef()\n",
    "\n",
    "vert = addVertice(meshdef, [0.0, 0.0])\n",
    "\n",
    "boundlink = extrude(meshdef, vert, [1.0, 0.0, ], 1.5, 10, 0.5)\n",
    "\n",
    "extrude(meshdef, boundlink, [0.0, 1.0], 1.5, 10, 1/1.1)\n",
    "extrude(meshdef, boundlink, [0.0, -1.0], 1.5, 10, 1/2)\n",
    "\n",
    "meshdef\n",
    "\n",
    "size(meshdef.vertices, 1)\n",
    "\n",
    "p = show(meshdef)"
   ]
  },
  {
   "cell_type": "code",
   "execution_count": 23,
   "metadata": {},
   "outputs": [
    {
     "ename": "MethodError",
     "evalue": "MethodError: no method matching ^(::Float64, ::Array{Float64,1})\nClosest candidates are:\n  ^(::Float64, !Matched::Float64) at math.jl:780\n  ^(::Float64, !Matched::Integer) at math.jl:793\n  ^(::T<:Real, !Matched::Complex{T<:Real}) where T<:Real at complex.jl:738\n  ...",
     "output_type": "error",
     "traceback": [
      "MethodError: no method matching ^(::Float64, ::Array{Float64,1})\nClosest candidates are:\n  ^(::Float64, !Matched::Float64) at math.jl:780\n  ^(::Float64, !Matched::Integer) at math.jl:793\n  ^(::T<:Real, !Matched::Complex{T<:Real}) where T<:Real at complex.jl:738\n  ...",
      "",
      "Stacktrace:",
      " [1] appendBoundaryNodes!(::Mesh, ::Boundary, ::Array{Array{Float64,1},1}, ::Bool, ::Bool) at ./In[22]:16",
      " [2] generateBoundaryMesh!(::Mesh, ::MeshDef) at ./In[7]:28",
      " [3] generateMesh(::MeshDef) at ./In[7]:57",
      " [4] top-level scope at util.jl:156",
      " [5] top-level scope at In[23]:1"
     ]
    }
   ],
   "source": [
    "#meshdef = defineCartesian(0.0, 0.0, 1.0, 10.0, 1000, 500)\n",
    "\n",
    "@time mesh = generateMesh(meshdef);"
   ]
  },
  {
   "cell_type": "code",
   "execution_count": 170,
   "metadata": {},
   "outputs": [],
   "source": [
    "writeAbq(\"test.inp\", mesh)"
   ]
  },
  {
   "cell_type": "code",
   "execution_count": 15,
   "metadata": {},
   "outputs": [
    {
     "ename": "MethodError",
     "evalue": "MethodError: no method matching show!(::MeshDef)\nClosest candidates are:\n  show!(!Matched::Plots.Plot, !Matched::Boundary, !Matched::MeshDef) at In[14]:6\n  show!(!Matched::Plots.Plot, !Matched::Array{Float64,1}) at In[14]:14\n  show!(!Matched::Plots.Plot, !Matched::Mesh) at In[14]:19",
     "output_type": "error",
     "traceback": [
      "MethodError: no method matching show!(::MeshDef)\nClosest candidates are:\n  show!(!Matched::Plots.Plot, !Matched::Boundary, !Matched::MeshDef) at In[14]:6\n  show!(!Matched::Plots.Plot, !Matched::Array{Float64,1}) at In[14]:14\n  show!(!Matched::Plots.Plot, !Matched::Mesh) at In[14]:19",
      "",
      "Stacktrace:",
      " [1] top-level scope at In[15]:1"
     ]
    }
   ],
   "source": [
    "show!(meshdef)"
   ]
  },
  {
   "cell_type": "code",
   "execution_count": 43,
   "metadata": {},
   "outputs": [
    {
     "data": {
      "text/plain": [
       "3-element Array{Int64,1}:\n",
       " 1\n",
       " 2\n",
       " 3"
      ]
     },
     "execution_count": 43,
     "metadata": {},
     "output_type": "execute_result"
    }
   ],
   "source": [
    "a = [1,2,3]"
   ]
  },
  {
   "cell_type": "code",
   "execution_count": 44,
   "metadata": {},
   "outputs": [
    {
     "data": {
      "text/plain": [
       "3"
      ]
     },
     "execution_count": 44,
     "metadata": {},
     "output_type": "execute_result"
    }
   ],
   "source": [
    "a[end]"
   ]
  },
  {
   "cell_type": "code",
   "execution_count": null,
   "metadata": {},
   "outputs": [],
   "source": []
  }
 ],
 "metadata": {
  "kernelspec": {
   "display_name": "Julia 1.0.2",
   "language": "julia",
   "name": "julia-1.0"
  },
  "language_info": {
   "file_extension": ".jl",
   "mimetype": "application/julia",
   "name": "julia",
   "version": "1.0.2"
  }
 },
 "nbformat": 4,
 "nbformat_minor": 2
}
